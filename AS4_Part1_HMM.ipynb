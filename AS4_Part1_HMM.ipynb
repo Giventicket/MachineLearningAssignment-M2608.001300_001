{
 "cells": [
  {
   "cell_type": "markdown",
   "metadata": {
    "id": "lDJIV2EVBuFZ"
   },
   "source": [
    "# M2608.001300 기계학습 기초 및 전기정보 응용<br> Assignment #4 Part 1: Hidden Markov Model (HMM)"
   ]
  },
  {
   "cell_type": "markdown",
   "metadata": {
    "id": "YTaYtPr3Nmjj"
   },
   "source": [
    "Copyright (C) Data Science & AI Laboratory, Seoul National University. This material is for educational uses only. Some contents are based on the material provided by other paper/book authors and may be copyrighted by them. Written by Dongjin Lee, May 2022."
   ]
  },
  {
   "cell_type": "markdown",
   "metadata": {
    "id": "OVNbco0DV1-_"
   },
   "source": [
    "**For understanding of this work, please carefully look at given PPT file.**\n",
    "\n",
    "Now, you're going to leave behind your implementations and instead migrate to one of popular deep learning frameworks, **PyTorch**. <br>\n",
    "In this notebook, you will learn how to train a Hidden Markov Model (HMM) for sequential modeling. <br>\n",
    "You need to follow the instructions to **complete 5 TODO sections and explain them if needed.**\n",
    "\n",
    "You will see:\n",
    "- what HMM is and when you might want to use it;\n",
    "- the so-called \"three problems\" of an HMM; and \n",
    "- how to implement HMM in PyTorch.\n",
    "\n",
    "\n",
    "**Note**: certain details are missing or ambiguous on purpose, in order to test your knowledge on the related materials. However, if you really feel that something essential is missing and cannot proceed to the next step, then contact the teaching staff with clear description of your problem.\n",
    "\n",
    "<font color=red>**DO NOT clear the final outputs**</font> so that TAs can grade both your code and results.\n",
    "\n",
    "\n",
    "### Some helpful tutorials and references for assignment #4:\n",
    "- [1] Pytorch official documentation. [[link]](https://pytorch.org/docs/stable/index.html)\n",
    "- [2] Stanford CS231n lectures. [[link]](http://cs231n.stanford.edu/)\n",
    "- [3] https://ratsgo.github.io/machine%20learning/2017/03/18/HMMs/\n",
    "- [4] https://ratsgo.github.io/natural%20language%20processing/2017/03/09/rnnlstm/"
   ]
  },
  {
   "cell_type": "markdown",
   "metadata": {
    "id": "efPPcGy0gP6H"
   },
   "source": [
    "## Problem 1. Implementing Hidden Markov Model\n",
    "\n",
    "A hypothetical scenario\n",
    "------\n",
    "\n",
    "To motivate the use of HMMs, imagine that you have a friend who gets to do a lot of travelling. Every day, this jet-setting friend sends you a selfie from the city they’re in, to make you envious."
   ]
  },
  {
   "cell_type": "markdown",
   "metadata": {
    "id": "Cs3z7pnVib9g"
   },
   "source": [
    "<center>\n",
    "\n",
    "![Diagram of a traveling friend sending selfies](https://github.com/lorenlugosch/pytorch_HMM/blob/master/img/selfies.png?raw=true)\n",
    "</center>\n",
    "\n",
    "\n",
    "\n"
   ]
  },
  {
   "cell_type": "markdown",
   "metadata": {
    "id": "hTPNK3IjirDA"
   },
   "source": [
    "How would you go about guessing which city the friend is in each day, just by looking at the selfies?\n",
    "\n",
    "If the selfie contains a really obvious landmark, like the Eiffel Tower, it will be easy to figure out where the photo was taken. If not, it will be a lot harder to infer the city.\n",
    "\n",
    "But we have a clue to help us: the city the friend is in each day is not totally random. For example, the friend will probably remain in the same city for a few days to sightsee before flying to a new city."
   ]
  },
  {
   "cell_type": "markdown",
   "metadata": {
    "id": "k4g7IG7CBx-Y"
   },
   "source": [
    "## The HMM setup\n",
    "\n",
    "The hypothetical scenario of the friend travelling between cities and sending you selfies can be modeled using an HMM.\n"
   ]
  },
  {
   "cell_type": "markdown",
   "metadata": {
    "id": "NpwgbDTnRzRa"
   },
   "source": [
    "An HMM models a system that is in a particular state at any given time and produces an output that depends on that state. \n",
    "\n",
    "At each timestep or clock tick, the system randomly decides on a new state and jumps into that state. The system then randomly generates an observation. The states are \"hidden\": we can't observe them. (In the cities/selfies analogy, the unknown cities would be the hidden states, and the selfies would be the observations.)\n",
    "\n",
    "Let's denote the sequence of states as $\\mathbf{z} = \\{z_1, z_2, \\dots, z_T \\}$, where each state is one of a finite set of $N$ states, and the sequence of observations as $\\mathbf{x} = \\{x_1, x_2, \\dots, x_T\\}$. The observations could be discrete, like letters, or real-valued, like audio frames."
   ]
  },
  {
   "cell_type": "markdown",
   "metadata": {
    "id": "uV5fAhEQDAcJ"
   },
   "source": [
    "<center>\n",
    "\n",
    "![Diagram of an HMM for three timesteps](https://github.com/lorenlugosch/pytorch_HMM/blob/master/img/hmm.png?raw=true)\n",
    "</center>"
   ]
  },
  {
   "cell_type": "markdown",
   "metadata": {
    "id": "vMPrA6Uv-u-K"
   },
   "source": [
    "An HMM makes two key assumptions:\n",
    "- **Assumption 1:** The state at time $t$ depends *only* on the state at the previous time $t-1$. \n",
    "- **Assumption 2:** The output at time $t$ depends *only* on the state at time $t$.\n",
    "\n",
    "These two assumptions make it possible to efficiently compute certain quantities that we may be interested in."
   ]
  },
  {
   "cell_type": "markdown",
   "metadata": {
    "id": "mRNhSK7LgEIS"
   },
   "source": [
    "## Components of an HMM\n",
    "An HMM has three sets of trainable parameters.\n",
    "  \n"
   ]
  },
  {
   "cell_type": "markdown",
   "metadata": {
    "id": "7Pu3zm77vXwp"
   },
   "source": [
    "- The **transition model** is a square matrix $A$, where $A_{s, s'}$ represents $p(z_t = s|z_{t-1} = s')$, the probability of jumping from state $s'$ to state $s$. \n",
    "\n",
    "- The **emission model** $b_s(x_t)$ tells us $p(x_t|z_t = s)$, the probability of generating $x_t$ when the system is in state $s$. For discrete observations, which we will use in this notebook, the emission model is just a lookup table, with one row for each state, and one column for each observation. For real-valued observations, it is common to use a Gaussian mixture model or neural network to implement the emission model. \n",
    "\n",
    "- The **state priors** tell us $p(z_1 = s)$, the probability of starting in state $s$. We use $\\pi$ to denote the vector of state priors, so $\\pi_s$ is the state prior for state $s$.\n",
    "\n",
    "Let's program an HMM class in PyTorch."
   ]
  },
  {
   "cell_type": "code",
   "execution_count": 1,
   "metadata": {
    "id": "aZbW6Pj0og7K"
   },
   "outputs": [],
   "source": [
    "import torch\n",
    "import numpy as np\n",
    "\n",
    "class HMM(torch.nn.Module):\n",
    "  \"\"\"\n",
    "  Hidden Markov Model with discrete observations.\n",
    "  \"\"\"\n",
    "  def __init__(self, M, N):\n",
    "    super(HMM, self).__init__()\n",
    "    self.M = M # number of possible observations\n",
    "    self.N = N # number of states\n",
    "\n",
    "    # A\n",
    "    self.transition_model = TransitionModel(self.N)\n",
    "\n",
    "    # b(x_t)\n",
    "    self.emission_model = EmissionModel(self.N,self.M)\n",
    "\n",
    "    # pi\n",
    "    self.unnormalized_state_priors = torch.nn.Parameter(torch.randn(self.N))\n",
    "\n",
    "    # use the GPU\n",
    "    self.is_cuda = torch.cuda.is_available()\n",
    "    if self.is_cuda: self.cuda()\n",
    "\n",
    "class TransitionModel(torch.nn.Module):\n",
    "  def __init__(self, N):\n",
    "    super(TransitionModel, self).__init__()\n",
    "    self.N = N\n",
    "    self.unnormalized_transition_matrix = torch.nn.Parameter(torch.randn(N,N))\n",
    "\n",
    "class EmissionModel(torch.nn.Module):\n",
    "  def __init__(self, N, M):\n",
    "    super(EmissionModel, self).__init__()\n",
    "    self.N = N\n",
    "    self.M = M\n",
    "    self.unnormalized_emission_matrix = torch.nn.Parameter(torch.randn(N,M))"
   ]
  },
  {
   "cell_type": "markdown",
   "metadata": {
    "id": "eom3ueYtpXGo"
   },
   "source": [
    "To sample from the HMM, we start by picking a random initial state from the state prior distribution.\n",
    "\n",
    "Then, we sample an output from the emission distribution, sample a transition from the transition distribution, and repeat.\n",
    "\n",
    "(Notice that we pass the unnormalized model parameters through a softmax function to make them into probabilities.)\n"
   ]
  },
  {
   "cell_type": "code",
   "execution_count": 2,
   "metadata": {
    "id": "BpgkwNyVwmyM"
   },
   "outputs": [],
   "source": [
    "def sample(self, T=10):\n",
    "  state_priors = torch.nn.functional.softmax(self.unnormalized_state_priors, dim=0)\n",
    "  transition_matrix = torch.nn.functional.softmax(self.transition_model.unnormalized_transition_matrix, dim=0)\n",
    "  emission_matrix = torch.nn.functional.softmax(self.emission_model.unnormalized_emission_matrix, dim=1)\n",
    "\n",
    "  # sample initial state\n",
    "  z_t = torch.distributions.categorical.Categorical(state_priors).sample().item()\n",
    "  z = []; x = []\n",
    "  z.append(z_t)\n",
    "  for t in range(0,T):\n",
    "    # sample emission\n",
    "    x_t = torch.distributions.categorical.Categorical(emission_matrix[z_t]).sample().item()\n",
    "    x.append(x_t)\n",
    "\n",
    "    # sample transition\n",
    "    z_t = torch.distributions.categorical.Categorical(transition_matrix[:,z_t]).sample().item()\n",
    "    if t < T-1: z.append(z_t)\n",
    "\n",
    "  return x, z\n",
    "\n",
    "# Add the sampling method to our HMM class\n",
    "HMM.sample = sample"
   ]
  },
  {
   "cell_type": "markdown",
   "metadata": {
    "id": "ohsdYScawkRG"
   },
   "source": [
    "Let's try hard-coding an HMM for generating fake words. (We'll also add some helper functions for encoding and decoding strings.)\n",
    "\n",
    "We will assume that the system has one state for generating vowels and one state for generating consonants, and the transition matrix has 0s on the diagonal---in other words, the system cannot stay in the vowel state or the consonant state for more than one timestep; it has to switch.\n",
    "\n",
    "Since we pass the transition matrix through a softmax, to get 0s we set the unnormalized parameter values to $-\\infty$."
   ]
  },
  {
   "cell_type": "code",
   "execution_count": 3,
   "metadata": {
    "colab": {
     "base_uri": "https://localhost:8080/"
    },
    "id": "eyR7yv_3sBG3",
    "outputId": "804f7812-603b-4f04-e89b-a060097cecd3"
   },
   "outputs": [
    {
     "name": "stdout",
     "output_type": "stream",
     "text": [
      "State priors: tensor([0.6225, 0.3775], device='cuda:0')\n",
      "Emission matrix: tensor([[0.0000, 0.0132, 0.0057, 0.0412, 0.0000, 0.0096, 0.0520, 0.0690, 0.0000,\n",
      "         0.0203, 0.0206, 0.0586, 0.0449, 0.0074, 0.0000, 0.0226, 0.0362, 0.1019,\n",
      "         0.0173, 0.2785, 0.0000, 0.0137, 0.1334, 0.0081, 0.0102, 0.0357],\n",
      "        [0.1228, 0.0000, 0.0000, 0.0000, 0.0655, 0.0000, 0.0000, 0.0000, 0.5361,\n",
      "         0.0000, 0.0000, 0.0000, 0.0000, 0.0000, 0.1241, 0.0000, 0.0000, 0.0000,\n",
      "         0.0000, 0.0000, 0.1516, 0.0000, 0.0000, 0.0000, 0.0000, 0.0000]],\n",
      "       device='cuda:0')\n",
      "Transition matrix: tensor([[0., 1.],\n",
      "        [1., 0.]], device='cuda:0')\n"
     ]
    }
   ],
   "source": [
    "import string\n",
    "alphabet = string.ascii_lowercase\n",
    "\n",
    "def encode(s):\n",
    "  \"\"\"\n",
    "  Convert a string into a list of integers\n",
    "  \"\"\"\n",
    "  x = [alphabet.index(ss) for ss in s]\n",
    "  return x\n",
    "\n",
    "def decode(x):\n",
    "  \"\"\"\n",
    "  Convert list of ints to string\n",
    "  \"\"\"\n",
    "  s = \"\".join([alphabet[xx] for xx in x])\n",
    "  return s\n",
    "\n",
    "# Initialize the model\n",
    "model = HMM(M=len(alphabet), N=2) \n",
    "\n",
    "# Hard-wiring the parameters!\n",
    "# Let state 0 = consonant, state 1 = vowel\n",
    "for p in model.parameters():\n",
    "    p.requires_grad = False # needed to do lines below\n",
    "model.unnormalized_state_priors[0] = 0.    # Let's start with a consonant more frequently\n",
    "model.unnormalized_state_priors[1] = -0.5\n",
    "print(\"State priors:\", torch.nn.functional.softmax(model.unnormalized_state_priors, dim=0))\n",
    "\n",
    "# In state 0, only allow consonants; in state 1, only allow vowels\n",
    "vowel_indices = torch.tensor([alphabet.index(letter) for letter in \"aeiou\"])\n",
    "consonant_indices = torch.tensor([alphabet.index(letter) for letter in \"bcdfghjklmnpqrstvwxyz\"])\n",
    "model.emission_model.unnormalized_emission_matrix[0, vowel_indices] = -np.inf\n",
    "model.emission_model.unnormalized_emission_matrix[1, consonant_indices] = -np.inf \n",
    "print(\"Emission matrix:\", torch.nn.functional.softmax(model.emission_model.unnormalized_emission_matrix, dim=1))\n",
    "\n",
    "# Only allow vowel -> consonant and consonant -> vowel\n",
    "model.transition_model.unnormalized_transition_matrix[0,0] = -np.inf  # consonant -> consonant\n",
    "model.transition_model.unnormalized_transition_matrix[0,1] = 0.       # vowel -> consonant\n",
    "model.transition_model.unnormalized_transition_matrix[1,0] = 0.       # consonant -> vowel\n",
    "model.transition_model.unnormalized_transition_matrix[1,1] = -np.inf  # vowel -> vowel\n",
    "print(\"Transition matrix:\", torch.nn.functional.softmax(model.transition_model.unnormalized_transition_matrix, dim=0))\n",
    "\n"
   ]
  },
  {
   "cell_type": "markdown",
   "metadata": {
    "id": "KFaYq8jDttmi"
   },
   "source": [
    "**TODO 1: Try sampling from our hard-coded model.**\n",
    "\n",
    "\n",
    "Sampled outputs should have the form of: <br>\n",
    "```\n",
    "x: adarituhij\n",
    "z: [1, 0, 1, 0, 1, 0, 1, 0, 1, 0]\n",
    "```\n",
    "\n"
   ]
  },
  {
   "cell_type": "code",
   "execution_count": 4,
   "metadata": {
    "colab": {
     "base_uri": "https://localhost:8080/"
    },
    "id": "8latFMD7ua0X",
    "outputId": "13558b2e-7ea8-4b1a-83e4-1a1153b1aaca"
   },
   "outputs": [
    {
     "name": "stdout",
     "output_type": "stream",
     "text": [
      "x: eziwitilis\n",
      "z: [0, 1, 0, 1, 0, 1, 0, 1, 0, 1]\n",
      "\n",
      "x: liderutoqo\n",
      "z: [1, 0, 1, 0, 1, 0, 1, 0, 1, 0]\n",
      "\n",
      "x: ohuwotigit\n",
      "z: [0, 1, 0, 1, 0, 1, 0, 1, 0, 1]\n",
      "\n",
      "x: atutatutir\n",
      "z: [0, 1, 0, 1, 0, 1, 0, 1, 0, 1]\n",
      "\n",
      "x: etiwitarit\n",
      "z: [0, 1, 0, 1, 0, 1, 0, 1, 0, 1]\n",
      "\n",
      "x: itetadites\n",
      "z: [0, 1, 0, 1, 0, 1, 0, 1, 0, 1]\n",
      "\n",
      "x: imatanihim\n",
      "z: [0, 1, 0, 1, 0, 1, 0, 1, 0, 1]\n",
      "\n",
      "x: itiritotiz\n",
      "z: [0, 1, 0, 1, 0, 1, 0, 1, 0, 1]\n",
      "\n",
      "x: itoyiwigih\n",
      "z: [0, 1, 0, 1, 0, 1, 0, 1, 0, 1]\n",
      "\n",
      "x: tolidiridi\n",
      "z: [1, 0, 1, 0, 1, 0, 1, 0, 1, 0]\n",
      "\n"
     ]
    }
   ],
   "source": [
    "# Sample at least 3 pairs of (x, z) outputs\n",
    "##############################################################################\n",
    "#                          IMPLEMENT YOUR CODE                               #\n",
    "##############################################################################\n",
    "\n",
    "def printXandZ (x, z):\n",
    "  x = x[::-1]\n",
    "  print(\"x:\", end =\" \")\n",
    "  for xx in x:\n",
    "    print(alphabet[xx], end =\"\")\n",
    "  print()\n",
    "  print(\"z:\", z)\n",
    "  print()\n",
    "  return\n",
    "\n",
    "for _ in range(0, 10):\n",
    "  x, z = model.sample()\n",
    "  printXandZ(x, z)\n",
    "  \n",
    "\n",
    "\n",
    "##############################################################################\n",
    "#                          END OF YOUR CODE                                  #\n",
    "##############################################################################"
   ]
  },
  {
   "cell_type": "markdown",
   "metadata": {
    "id": "hKzlTlfRgZod"
   },
   "source": [
    "## Problem 2. The Three Problems\n",
    "\n",
    "The \"three problems\" that need to be solved before you can effectively use an HMM are:\n",
    "- Problem 1: How do we efficiently compute $p(\\mathbf{x})$?\n",
    "- Problem 2: How do we find the most likely state sequence $\\mathbf{z}$ that could have generated the data? \n",
    "- Problem 3: How do we train the model?\n",
    "\n",
    "In the rest of the notebook, we will see how to solve each problem and implement the solutions in PyTorch."
   ]
  },
  {
   "cell_type": "markdown",
   "metadata": {
    "id": "v_RfIAnmN2RZ"
   },
   "source": [
    "### Problem 2-1. How do we compute $p(\\mathbf{x})$?"
   ]
  },
  {
   "cell_type": "markdown",
   "metadata": {
    "id": "Z3zUUYH0giKV"
   },
   "source": [
    "\n",
    "#### *Why?*\n",
    "Why might we care about computing $p(\\mathbf{x})$? Here's two reasons.\n",
    "* Given two HMMs, $\\theta_1$ and $\\theta_2$, we can compute the likelihood of some data $\\mathbf{x}$ under each model, $p_{\\theta_1}(\\mathbf{x})$ and $p_{\\theta_2}(\\mathbf{x})$, to decide which model is a better fit to the data. \n",
    "\n",
    "  (For example, given an HMM for English speech and an HMM for French speech, we could compute the likelihood given each model, and pick the model with the higher likelihood to infer whether the person is speaking English or French.)\n",
    "* Being able to compute $p(\\mathbf{x})$ gives us a way to train the model, as we will see later.\n",
    "\n",
    "#### *How?*\n",
    "Given that we want $p(\\mathbf{x})$, how do we compute it?\n",
    "\n",
    "We've assumed that the data is generated by visiting some sequence of states $\\mathbf{z}$ and picking an output $x_t$ for each $z_t$ from the emission distribution $p(x_t|z_t)$. So if we knew $\\mathbf{z}$, then the probability of $\\mathbf{x}$ could be computed as follows:\n",
    "\n",
    "$$p(\\mathbf{x}|\\mathbf{z}) = \\prod_{t} p(x_t|z_t) p(z_t|z_{t-1})$$\n",
    "\n",
    "However, we don't know $\\mathbf{z}$; it's hidden. But we do know the probability of any given $\\mathbf{z}$, independent of what we observe. So we could get the probability of $\\mathbf{x}$ by summing over the different possibilities for $\\mathbf{z}$, like this:\n",
    "\n",
    "$$p(\\mathbf{x}) = \\sum_{\\mathbf{z}} p(\\mathbf{x}|\\mathbf{z}) p(\\mathbf{z}) = \\sum_{\\mathbf{z}} p(\\mathbf{z}) \\prod_{t} p(x_t|z_t) p(z_t|z_{t-1})$$\n",
    "\n",
    "The problem is: if you try to take that sum directly, you will need to compute $N^T$ terms. This is impossible to do for anything but very short sequences. For example, let's say the sequence is of length $T=100$ and there are $N=2$ possible states. Then we would need to check $N^T = 2^{100} \\approx 10^{30}$ different possible state sequences.\n",
    "\n",
    "We need a way to compute $p(\\mathbf{x})$ that doesn't require us to explicitly calculate all $N^T$ terms. For this, we use the forward algorithm."
   ]
  },
  {
   "cell_type": "markdown",
   "metadata": {
    "id": "DrH0YdUAhS6J"
   },
   "source": [
    "________\n",
    "\n",
    "<u><b>The Forward Algorithm</b></u>\n",
    "\n",
    "> for $s=1 \\rightarrow N$:\\\n",
    "> &nbsp;&nbsp;&nbsp;&nbsp;&nbsp;&nbsp;$\\alpha_{s,1} := b_s(x_1) \\cdot \\pi_s$ \n",
    "> \n",
    "> for $t = 2 \\rightarrow T$:\\\n",
    "> &nbsp;&nbsp;&nbsp;&nbsp;&nbsp;&nbsp;for $s = 1 \\rightarrow N$:\\\n",
    "> &nbsp;&nbsp;&nbsp;&nbsp;&nbsp;&nbsp;&nbsp;&nbsp;&nbsp;&nbsp;&nbsp;&nbsp;\n",
    "> $\\alpha_{s,t} := b_s(x_t) \\cdot \\underset{s'}{\\sum} A_{s, s'} \\cdot \\alpha_{s',t-1} $\n",
    "> \n",
    "> $p(\\mathbf{x}) := \\underset{s}{\\sum} \\alpha_{s,T}$\\\n",
    "> return $p(\\mathbf{x})$\n",
    "________\n"
   ]
  },
  {
   "cell_type": "markdown",
   "metadata": {
    "id": "bAdpwRiMn8Vn"
   },
   "source": [
    "The forward algorithm is much faster than enumerating all $N^T$ possible state sequences: it requires only $O(N^2T)$ operations to run, since each step is mostly multiplying the vector of forward variables by the transition matrix. (And very often we can reduce that complexity even further, if the transition matrix is sparse.)\n",
    "\n",
    "There is one practical problem with the forward algorithm as presented above: it is prone to underflow due to multiplying a long chain of small numbers, since probabilities are always between 0 and 1. Instead, let's do everything in the log domain. In the log domain, a multiplication becomes a sum, and a sum becomes a ${\\text{logsumexp}}$.\n",
    "\n",
    "Let $x \\in \\mathbb{R}^n$, ${\\text{logsumexp}} (x)$ is defined as:\n",
    "\n",
    "$${\\text{logsumexp}} (x) = \\log (\\sum_{i} \\exp (x_i)).$$\n",
    "\n",
    "Numerically, ${\\text{logsumexp}}$ is similar to ${\\max}$: in fact, it’s sometimes called the “smooth maximum” function. For example:\n",
    "\n",
    "$$\\max ([1, 2, 3]) = 3 $$\n",
    "$${\\text{logsumexp}} ([1, 2, 3]) = 3.4076$$"
   ]
  },
  {
   "cell_type": "markdown",
   "metadata": {
    "id": "FZ8VsLFxA3iT"
   },
   "source": [
    "________\n",
    "\n",
    "<u><b>The Forward Algorithm (Log Domain)</b></u>\n",
    "\n",
    "> for $s=1 \\rightarrow N$:\\\n",
    "> &nbsp;&nbsp;&nbsp;&nbsp;&nbsp;&nbsp;$\\text{log }\\alpha_{s,1} := \\text{log }b_s(x_1) + \\text{log }\\pi_s$ \n",
    "> \n",
    "> for $t = 2 \\rightarrow T$:\\\n",
    "> &nbsp;&nbsp;&nbsp;&nbsp;&nbsp;&nbsp;for $s = 1 \\rightarrow N$:\\\n",
    "> &nbsp;&nbsp;&nbsp;&nbsp;&nbsp;&nbsp;&nbsp;&nbsp;&nbsp;&nbsp;&nbsp;&nbsp;\n",
    "> $\\text{log }\\alpha_{s,t} := \\text{log }b_s(x_t) +  \\underset{s'}{\\text{logsumexp}} \\left( \\text{log }A_{s, s'} + \\text{log }\\alpha_{s',t-1} \\right)$\n",
    "> \n",
    "> $\\text{log }p(\\mathbf{x}) := \\underset{s}{\\text{logsumexp}} \\left( \\text{log }\\alpha_{s,T} \\right)$\\\n",
    "> return $\\text{log }p(\\mathbf{x})$\n",
    "________"
   ]
  },
  {
   "cell_type": "markdown",
   "metadata": {
    "id": "g55ik6ZCEiJU"
   },
   "source": [
    "**TODO 2**: Now that we have a numerically stable version of the forward algorithm, let's implement it in PyTorch. "
   ]
  },
  {
   "cell_type": "code",
   "execution_count": 5,
   "metadata": {
    "id": "3CMdK1EfE1SJ"
   },
   "outputs": [],
   "source": [
    "def HMM_forward(self, x, T):\n",
    "  \"\"\"\n",
    "  x : IntTensor of shape (batch size, T_max)\n",
    "  T : IntTensor of shape (batch size)\n",
    "\n",
    "  Compute log p(x) for each example in the batch.\n",
    "  T = length of each example\n",
    "  \"\"\"\n",
    "  ##############################################################################\n",
    "  #                          IMPLEMENT YOUR CODE                               #\n",
    "  ##############################################################################\n",
    "\n",
    "  # initialization\n",
    "  log_state_priors = torch.log(torch.nn.functional.softmax(self.unnormalized_state_priors, dim=0)) # (N)\n",
    "  log_emission = self.emission_model.forward(x[:, 0]) # (batch size, N)\n",
    "  log_alpha = log_state_priors.reshape((1, -1)) + log_emission  # (batch size, N)\n",
    "\n",
    "  # induction\n",
    "  for t in range(1, x.shape[1]):\n",
    "    log_emission = self.emission_model.forward(x[:, t]) # (batch size, N)\n",
    "    logsumexp = self.transition_model.forward(log_alpha) # (batch size, N)\n",
    "    log_alpha = log_emission + logsumexp  # (batch size, N)\n",
    "\n",
    "  # termination\n",
    "  log_probs = torch.logsumexp(log_alpha, dim=1)\n",
    "\n",
    "  ##############################################################################\n",
    "  #                          END OF YOUR CODE                                  #\n",
    "  ##############################################################################  \n",
    "  return log_probs # (batch size)\n",
    "\n",
    "def emission_model_forward(self, x_t):\n",
    "  \"\"\"\n",
    "  x_t : IntTensor of shape (batch size)\n",
    "  \"\"\"\n",
    "  ##############################################################################\n",
    "  #                          IMPLEMENT YOUR CODE                               #\n",
    "  ##############################################################################\n",
    "  \n",
    "  out = self.unnormalized_emission_matrix # (N, M)\n",
    "  out = torch.nn.functional.softmax(out, dim=1) # (N, M)\n",
    "  out = out.T[x_t, :] # (batch size, N)\n",
    "  out = torch.log(out) # (batch size, N)\n",
    "\n",
    "  ##############################################################################\n",
    "  #                          END OF YOUR CODE                                  #\n",
    "  ##############################################################################\n",
    "  return out\n",
    "\n",
    "def transition_model_forward(self, log_alpha):\n",
    "  \"\"\"\n",
    "  log_alpha : Tensor of shape (batch size, N)\n",
    "  Multiply previous timestep's alphas by transition matrix (in log domain)\n",
    "  \"\"\"\n",
    "  ##############################################################################\n",
    "  #                          IMPLEMENT YOUR CODE                               #\n",
    "  ##############################################################################\n",
    "  \n",
    "  out = self.unnormalized_transition_matrix # (N, N)\n",
    "  out = torch.nn.functional.softmax(out, dim=0)\n",
    "  out = torch.log(out) # (N, N)\n",
    "  out = log_domain_matmul(log_alpha, out) # (batch size, N)\n",
    "\n",
    "  ##############################################################################\n",
    "  #                          END OF YOUR CODE                                  #\n",
    "  ##############################################################################\n",
    "  return out\n",
    "\n",
    "def log_domain_matmul(log_A, log_B):\n",
    "\t\"\"\"\n",
    "\tlog_A : m x n\n",
    "\tlog_B : n x p\n",
    "\toutput : m x p matrix\n",
    "\n",
    "\tNormally, a matrix multiplication\n",
    "\tcomputes out_{i,j} = sum_k A_{i,k} x B_{k,j}\n",
    "\n",
    "\tA log domain matrix multiplication\n",
    "\tcomputes out_{i,j} = logsumexp_k log_A_{i,k} + log_B_{k,j}\n",
    "\t\"\"\"\n",
    "\tm = log_A.shape[0]\n",
    "\tn = log_A.shape[1]\n",
    "\tp = log_B.shape[1]\n",
    "\n",
    "\t# log_A_expanded = torch.stack([log_A] * p, dim=2)\n",
    "\t# log_B_expanded = torch.stack([log_B] * m, dim=0)\n",
    "    # fix for PyTorch > 1.5 by egaznep on Github:\n",
    "\tlog_A_expanded = torch.reshape(log_A, (m,n,1))\n",
    "\tlog_B_expanded = torch.reshape(log_B, (1,n,p))\n",
    "\n",
    "\telementwise_sum = log_A_expanded + log_B_expanded\n",
    "\tout = torch.logsumexp(elementwise_sum, dim=1)\n",
    "\n",
    "\treturn out\n",
    "\n",
    "TransitionModel.forward = transition_model_forward\n",
    "EmissionModel.forward = emission_model_forward\n",
    "HMM.forward = HMM_forward"
   ]
  },
  {
   "cell_type": "markdown",
   "metadata": {
    "id": "y-fNnZfqGb1m"
   },
   "source": [
    "Try running the forward algorithm on our vowels/consonants model from before:"
   ]
  },
  {
   "cell_type": "code",
   "execution_count": 6,
   "metadata": {
    "colab": {
     "base_uri": "https://localhost:8080/"
    },
    "id": "8rMAmf-UGhbw",
    "outputId": "2f4881d8-44ce-495c-d87c-194379742a12"
   },
   "outputs": [
    {
     "name": "stdout",
     "output_type": "stream",
     "text": [
      "tensor([-9.0204], device='cuda:0')\n",
      "tensor([-9.4975,    -inf], device='cuda:0')\n"
     ]
    }
   ],
   "source": [
    "x = torch.stack( [torch.tensor(encode(\"cat\"))] )\n",
    "T = torch.tensor([3])\n",
    "print(model.forward(x, T))\n",
    "\n",
    "x = torch.stack( [torch.tensor(encode(\"aba\")), torch.tensor(encode(\"abb\"))] )\n",
    "T = torch.tensor([3,3])\n",
    "print(model.forward(x, T))"
   ]
  },
  {
   "cell_type": "markdown",
   "metadata": {
    "id": "95TB2gvNHuLn"
   },
   "source": [
    "When using the vowel <-> consonant HMM from above, notice that the forward algorithm returns $-\\infty$ for $\\mathbf{x} = ``\\text{abb\"}$. That's because our transition matrix says the probability of vowel -> vowel and consonant -> consonant is 0, so the probability of $``\\text{abb\"}$ happening is 0, and thus the log probability is $-\\infty$."
   ]
  },
  {
   "cell_type": "markdown",
   "metadata": {
    "id": "qBCrFobsEM8X"
   },
   "source": [
    "#### *Side note: deriving the forward algorithm*\n",
    "\n",
    "If you're interested in understanding how the forward algorithm actually computes $p(\\mathbf{x})$, read this section; if not, skip to the next part on \"Problem 2\" (finding the most likely state sequence)."
   ]
  },
  {
   "cell_type": "markdown",
   "metadata": {
    "id": "CpHWWKcxhjkx"
   },
   "source": [
    "\n",
    "\n",
    "To derive the forward algorithm, start by deriving the forward variable:\n",
    "\n",
    "$\n",
    "\\begin{align} \n",
    "    \\alpha_{s,t} &= p(x_1, x_2, \\dots, x_t, z_t=s) \\\\\n",
    "     &= p(x_t | x_1, x_2, \\dots, x_{t-1}, z_t = s) \\cdot p(x_1, x_2, \\dots, x_{t-1}, z_t = s)  \\\\ \n",
    "    &= p(x_t | z_t = s) \\cdot p(x_1, x_2, \\dots, x_{t-1}, z_t = s) \\\\\n",
    "    &= p(x_t | z_t = s) \\cdot \\left( \\sum_{s'} p(x_1, x_2, \\dots, x_{t-1}, z_{t-1}=s', z_t = s) \\right)\\\\\n",
    "    &= p(x_t | z_t = s) \\cdot \\left( \\sum_{s'} p(z_t = s | x_1, x_2, \\dots, x_{t-1}, z_{t-1}=s') \\cdot p(x_1, x_2, \\dots, x_{t-1}, z_{t-1}=s') \\right)\\\\\n",
    "    &= \\underbrace{p(x_t | z_t = s)}_{\\text{emission model}} \\cdot \\left( \\sum_{s'} \\underbrace{p(z_t = s | z_{t-1}=s')}_{\\text{transition model}} \\cdot \\underbrace{p(x_1, x_2, \\dots, x_{t-1}, z_{t-1}=s')}_{\\text{forward variable for previous timestep}} \\right)\\\\\n",
    "    &= b_s(x_t) \\cdot \\left( \\sum_{s'} A_{s, s'} \\cdot \\alpha_{s',t-1} \\right)\n",
    "\\end{align}\n",
    "$\n",
    "\n",
    "I'll explain how to get to each line of this equation from the previous line. \n",
    "\n",
    "Line 1 is the definition of the forward variable $\\alpha_{s,t}$.\n",
    "\n",
    "Line 2 is the chain rule ($p(A,B) = p(A|B) \\cdot p(B)$, where $A$ is $x_t$ and $B$ is all the other variables).\n",
    "\n",
    "In Line 3, we apply Assumption 2: the probability of observation $x_t$ depends only on the current state $z_t$.\n",
    "\n",
    "In Line 4, we marginalize over all the possible states in the previous timestep $t-1$.\n",
    "\n",
    "In Line 5, we apply the chain rule again.\n",
    "\n",
    "In Line 6, we apply Assumption 1: the current state depends only on the previous state.\n",
    "\n",
    "In Line 7, we substitute in the emission probability, the transition probability, and the forward variable for the previous timestep, to get the complete recursion."
   ]
  },
  {
   "cell_type": "markdown",
   "metadata": {
    "id": "kh1ovNjWDbIA"
   },
   "source": [
    "The formula above can be used for $t = 2 \\rightarrow T$. At $t=1$, there is no previous state, so instead of the transition matrix $A$, we use the state priors $\\pi$, which tell us the probability of starting in each state. Thus for $t=1$, the forward variables are computed as follows:\n",
    "\n",
    "$$\\begin{align} \n",
    "\\alpha_{s,1} &= p(x_1, z_1=s) \\\\\n",
    "  &= p(x_1 | z_1 = s) \\cdot p(z_1 = s)  \\\\ \n",
    "&= b_s(x_1) \\cdot \\pi_s\n",
    "\\end{align}$$"
   ]
  },
  {
   "cell_type": "markdown",
   "metadata": {
    "id": "RRzSqkRkEWKX"
   },
   "source": [
    "Finally, to compute $p(\\mathbf{x}) = p(x_1, x_2, \\dots, x_T)$, we marginalize over $\\alpha_{s,T}$, the forward variables computed in the last timestep:\n",
    "\n",
    "$$\\begin{align*} \n",
    "p(\\mathbf{x}) &= \\sum_{s} p(x_1, x_2, \\dots, x_T, z_T = s) \\\\ \n",
    "&= \\sum_{s} \\alpha_{s,T}\n",
    "\\end{align*}$$"
   ]
  },
  {
   "cell_type": "markdown",
   "metadata": {
    "id": "qLBU8Iu7I5Tb"
   },
   "source": [
    "You can get from this formulation to the log domain formulation by taking the log of the forward variable, and using these identities:\n",
    "- $\\text{log }(a \\cdot b) = \\text{log }a + \\text{log }b$\n",
    "- $\\text{log }(a + b) = \\text{log }(e^{\\text{log }a} + e^{\\text{log }b}) = \\text{logsumexp}(\\text{log }a, \\text{log }b)$"
   ]
  },
  {
   "cell_type": "markdown",
   "metadata": {
    "id": "bxivzF8hgpiW"
   },
   "source": [
    "### Problem 2-2. How do we compute $\\underset{\\mathbf{z}}{\\text{argmax }} p(\\mathbf{z}|\\mathbf{x})$?"
   ]
  },
  {
   "cell_type": "markdown",
   "metadata": {
    "id": "c1Kv2yyiN7SX"
   },
   "source": [
    "Given an observation sequence $\\mathbf{x}$, we may want to find the most likely sequence of states that could have generated $\\mathbf{x}$. (Given the sequence of selfies, we want to infer what cities the friend visited.) In other words, we want $\\underset{\\mathbf{z}}{\\text{argmax }} p(\\mathbf{z}|\\mathbf{x})$.\n",
    "\n",
    "We can use Bayes' rule to rewrite this expression:\n",
    "$$\\begin{align*} \n",
    "    \\underset{\\mathbf{z}}{\\text{argmax }} p(\\mathbf{z}|\\mathbf{x}) &= \\underset{\\mathbf{z}}{\\text{argmax }} \\frac{p(\\mathbf{x}|\\mathbf{z}) p(\\mathbf{z})}{p(\\mathbf{x})} \\\\ \n",
    "    &= \\underset{\\mathbf{z}}{\\text{argmax }} p(\\mathbf{x}|\\mathbf{z}) p(\\mathbf{z})\n",
    "\\end{align*}$$\n",
    "\n",
    "Hmm! That last expression, $\\underset{\\mathbf{z}}{\\text{argmax }} p(\\mathbf{x}|\\mathbf{z}) p(\\mathbf{z})$, looks suspiciously similar to the intractable expression we encountered before introducing the forward algorithm, $\\underset{\\mathbf{z}}{\\sum} p(\\mathbf{x}|\\mathbf{z}) p(\\mathbf{z})$.\n",
    "\n",
    "And indeed, just as the intractable *sum* over all $\\mathbf{z}$ can be implemented efficiently using the forward algorithm, so too this intractable *argmax* can be implemented efficiently using a similar divide-and-conquer algorithm: the legendary Viterbi algorithm!"
   ]
  },
  {
   "cell_type": "markdown",
   "metadata": {
    "id": "niKZEX5xWeWR"
   },
   "source": [
    "________\n",
    "\n",
    "<u><b>The Viterbi Algorithm</b></u>\n",
    "\n",
    "> for $s=1 \\rightarrow N$:\\\n",
    "> &nbsp;&nbsp;&nbsp;&nbsp;&nbsp;&nbsp;$\\delta_{s,1} := b_s(x_1) \\cdot \\pi_s$\\\n",
    "> &nbsp;&nbsp;&nbsp;&nbsp;&nbsp;&nbsp;$\\psi_{s,1} := 0$\n",
    ">\n",
    "> for $t = 2 \\rightarrow T$:\\\n",
    "> &nbsp;&nbsp;&nbsp;&nbsp;&nbsp;&nbsp;for $s = 1 \\rightarrow N$:\\\n",
    "> &nbsp;&nbsp;&nbsp;&nbsp;&nbsp;&nbsp;&nbsp;&nbsp;&nbsp;&nbsp;&nbsp;&nbsp;$\\delta_{s,t} := b_s(x_t) \\cdot \\left( \\underset{s'}{\\text{max }} A_{s, s'} \\cdot \\delta_{s',t-1} \\right)$\\\n",
    "&nbsp;&nbsp;&nbsp;&nbsp;&nbsp;&nbsp;&nbsp;&nbsp;&nbsp;&nbsp;&nbsp;&nbsp;$\\psi_{s,t} := \\underset{s'}{\\text{argmax }} A_{s, s'} \\cdot \\delta_{s',t-1}$\n",
    "> \n",
    "> $z_T^* := \\underset{s}{\\text{argmax }} \\delta_{s,T}$\\\n",
    "> for $t = T-1 \\rightarrow 1$:\\\n",
    "&nbsp;&nbsp;&nbsp;&nbsp;&nbsp;&nbsp;$z_{t}^* := \\psi_{z_{t+1}^*,t+1}$\n",
    "> \n",
    "> $\\mathbf{z}^* := \\{z_{1}^*, \\dots, z_{T}^* \\}$\\\n",
    "return $\\mathbf{z}^*$\n",
    "________"
   ]
  },
  {
   "cell_type": "markdown",
   "metadata": {
    "id": "UcHVTCucZV6K"
   },
   "source": [
    "The Viterbi algorithm looks somewhat gnarlier than the forward algorithm, but it is essentially the same algorithm, with two tweaks: 1) instead of taking the sum over previous states, we take the max; and 2) we record the argmax of the previous states in a table, and loop back over this table at the end to get $\\mathbf{z}^*$, the most likely state sequence. (And like the forward algorithm, we should run the Viterbi algorithm in the log domain for better numerical stability.) "
   ]
  },
  {
   "cell_type": "markdown",
   "metadata": {
    "id": "NlN7IY_JZ5A-"
   },
   "source": [
    "**TODO 3**: Let's add the Viterbi algorithm to our PyTorch model:"
   ]
  },
  {
   "cell_type": "code",
   "execution_count": 7,
   "metadata": {
    "id": "qeDG8DVmZ-P0"
   },
   "outputs": [],
   "source": [
    "def viterbi(self, x, T):\n",
    "  \"\"\"\n",
    "  x : IntTensor of shape (batch size, T_max)\n",
    "  T : IntTensor of shape (batch size)\n",
    "  Find argmax_z log p(x|z) for each (x) in the batch.\n",
    "  \"\"\"\n",
    "  ##############################################################################\n",
    "  #                          IMPLEMENT YOUR CODE                               #\n",
    "  ##############################################################################\n",
    "  \n",
    "  psi = torch.zeros((x.shape[1], x.shape[0], self.N)) # (T_max, batch size, N)\n",
    "  z_star = torch.zeros((x.shape[0], x.shape[1])) # (batch size, T_max)\n",
    "  # initialization\n",
    "  log_state_priors = torch.log(torch.nn.functional.softmax(self.unnormalized_state_priors, dim=0)) # (N)\n",
    "  log_emission = self.emission_model.forward(x[:, 0]) # (batch size, N)\n",
    "  delta = log_state_priors.reshape((1, -1)) + log_emission  # (batch size, N)\n",
    "\n",
    "  # recursion\n",
    "  for t in range(1, x.shape[1]):\n",
    "    log_emission = self.emission_model.forward(x[:, t]) # (batch size, N)\n",
    "    logsumexp, psi[t, :, :] = self.transition_model.maxmul(delta) # (batch size, N)\n",
    "    delta = log_emission + logsumexp  # (batch size, N)\n",
    "\n",
    "  # termination\n",
    "  best_path_scores, z = torch.max(delta, dim=1) # (batch size) (batch size)\n",
    "  \n",
    "  # path backtracking\n",
    "  z_star[:, x.shape[1]-1] = z # (batch size)\n",
    "  for t in range(x.shape[1]-1, 0, -1):\n",
    "    mask1 = [n for n in range(x.shape[0])]\n",
    "    mask2 = [z[n] for n in range(x.shape[0])]\n",
    "    z = psi[t, mask1, mask2]\n",
    "    z_star[:, t-1] = z\n",
    "  \n",
    "  ##############################################################################\n",
    "  #                          END OF YOUR CODE                                  #\n",
    "  ##############################################################################\n",
    "  return z_star, best_path_scores # return both the best path and its log probability\n",
    "\n",
    "def transition_model_maxmul(self, log_alpha):\n",
    "  # log_alpha (batch size, N)\n",
    "  log_transition_matrix = torch.nn.functional.log_softmax(self.unnormalized_transition_matrix, dim=0) # (N, N)\n",
    "\n",
    "  out1, out2 = maxmul(log_transition_matrix, log_alpha.transpose(0,1))\n",
    "  return out1.transpose(0,1), out2.transpose(0,1)\n",
    "\n",
    "def maxmul(log_A, log_B):\n",
    "\t\"\"\"\n",
    "\tlog_A : m x n\n",
    "\tlog_B : n x p\n",
    "\toutput : m x p matrix\n",
    "\n",
    "\tSimilar to the log domain matrix multiplication,\n",
    "\tthis computes out_{i,j} = max_k log_A_{i,k} + log_B_{k,j}\n",
    "\t\"\"\"\n",
    "\tm = log_A.shape[0]\n",
    "\tn = log_A.shape[1]\n",
    "\tp = log_B.shape[1]\n",
    "\n",
    "\tlog_A_expanded = torch.stack([log_A] * p, dim=2)\n",
    "\tlog_B_expanded = torch.stack([log_B] * m, dim=0)\n",
    "\n",
    "\telementwise_sum = log_A_expanded + log_B_expanded\n",
    "\tout1,out2 = torch.max(elementwise_sum, dim=1)\n",
    "\n",
    "\treturn out1,out2\n",
    "\n",
    "TransitionModel.maxmul = transition_model_maxmul\n",
    "HMM.viterbi = viterbi"
   ]
  },
  {
   "cell_type": "markdown",
   "metadata": {
    "id": "uTGOaeXbaWie"
   },
   "source": [
    "Try running Viterbi on an input sequence, given the vowel/consonant HMM:"
   ]
  },
  {
   "cell_type": "code",
   "execution_count": 8,
   "metadata": {
    "colab": {
     "base_uri": "https://localhost:8080/"
    },
    "id": "zeOTbaIMc23d",
    "outputId": "dc0c758f-2164-4738-a71f-cde92a14487c"
   },
   "outputs": [
    {
     "name": "stdout",
     "output_type": "stream",
     "text": [
      "(tensor([[1., 0., 1.],\n",
      "        [1., 0., 0.]]), tensor([-9.4975,    -inf], device='cuda:0'))\n"
     ]
    }
   ],
   "source": [
    "x = torch.stack( [torch.tensor(encode(\"aba\")), torch.tensor(encode(\"abb\"))] )\n",
    "T = torch.tensor([3,3])\n",
    "print(model.viterbi(x, T))"
   ]
  },
  {
   "cell_type": "markdown",
   "metadata": {
    "id": "fKr8YlafdzBx"
   },
   "source": [
    "For $\\mathbf{x} = ``\\text{aba\"}$, the Viterbi algorithm returns $\\mathbf{z}^* = \\{1,0,1\\}$. This corresponds to \"vowel, consonant, vowel\" according to the way we defined the states above, which is correct for this input sequence. Yay!\n",
    "\n",
    "For $\\mathbf{x} = ``\\text{abb\"}$, the Viterbi algorithm still returns a $\\mathbf{z}^*$, but we know this is gibberish because \"vowel, consonant, consonant\" is impossible under this HMM, and indeed the log probability of this path is $-\\infty$."
   ]
  },
  {
   "cell_type": "markdown",
   "metadata": {
    "id": "nCWw0_WienO_"
   },
   "source": [
    "### Problem 2-3. Comparison: Forward vs. Viterbi\n",
    "\n",
    "1. **TODO 4**: Compare the \"forward score\" (the log probability of all possible paths, returned by the forward algorithm) with the \"Viterbi score\" (the log probability of the maximum likelihood path, returned by the Viterbi algorithm). You can print out model's outputs. And please explain the result below."
   ]
  },
  {
   "cell_type": "code",
   "execution_count": 9,
   "metadata": {
    "colab": {
     "base_uri": "https://localhost:8080/"
    },
    "id": "L9fBOHvdeqWC",
    "outputId": "75004295-4368-4b58-9649-815621a019c9"
   },
   "outputs": [
    {
     "name": "stdout",
     "output_type": "stream",
     "text": [
      "tensor([-9.4975,    -inf], device='cuda:0')\n",
      "tensor([-9.4975,    -inf], device='cuda:0')\n"
     ]
    }
   ],
   "source": [
    "##############################################################################\n",
    "#                          IMPLEMENT YOUR CODE                               #\n",
    "##############################################################################\n",
    "\n",
    "print(model.forward(x, T))\n",
    "print(model.viterbi(x, T)[1])\n",
    "\n",
    "##############################################################################\n",
    "#                          END OF YOUR CODE                                  #\n",
    "##############################################################################"
   ]
  },
  {
   "cell_type": "markdown",
   "metadata": {
    "id": "1MZhZFyNX0go"
   },
   "source": [
    "\n",
    "2. **Explanation for TODO 4**:<br>\n",
    "\n",
    "위의 결과에선 forward score과 Viterbi score을 비교한 결과가 같게 나왔다. forward score은 모델에서 observation sequence가 관측될 수 있는 확률을 반환하고 Viterbi score은 모델에서 임의의 state sequence가 observation sequence를 생성할 확률 중 최대값을 반환한다. 한편, 위의 input은 observation sequence를 생성할 수 있는 state sequence가 유일하여 forward path는 1개이고 이는 곧 Viterbi path와 동일하다.\n"
   ]
  },
  {
   "cell_type": "markdown",
   "metadata": {
    "id": "SvFtiWhzgy0V"
   },
   "source": [
    "### Problem 2-4. How do we train the model?\n",
    "\n",
    "\n",
    "\n"
   ]
  },
  {
   "cell_type": "markdown",
   "metadata": {
    "id": "r3JaykRalSBZ"
   },
   "source": [
    "Earlier, we hard-coded an HMM to have certain behavior. What we would like to do instead is have the HMM learn to model the data on its own. And while it is possible to use supervised learning with an HMM (by hard-coding the emission model or the transition model) so that the states have a particular interpretation, the really cool thing about HMMs is that they are naturally unsupervised learners, so they can learn to use their different states to represent different patterns in the data, without the programmer needing to indicate what each state means."
   ]
  },
  {
   "cell_type": "markdown",
   "metadata": {
    "id": "8K471fT4N-PR"
   },
   "source": [
    "Like many machine learning models, an HMM can be trained using maximum likelihood estimation, i.e.:\n",
    "\n",
    "$$\\theta^* = \\underset{\\theta}{\\text{argmin }} -\\sum_{\\mathbf{x}^i}\\text{log }p_{\\theta}(\\mathbf{x}^i)$$\n",
    "\n",
    "where $\\mathbf{x}^1, \\mathbf{x}^2, \\dots$ are training examples. \n",
    "\n",
    "The standard method for doing this is the Expectation-Maximization (EM) algorithm, which for HMMs is also called the \"Baum-Welch\" algorithm. In EM training, we alternate between an \"E-step\", where we estimate the values of the latent variables, and an \"M-step\", where the model parameters are updated given the estimated latent variables. (Think $k$-means, where you guess which cluster each data point belongs to, then reestimate where the clusters are, and repeat.) The EM algorithm has some nice properties: it is guaranteed at each step to decrease the loss function, and the E-step and M-step may have an exact closed form solution, in which case no pesky learning rates are required.\n",
    "\n",
    "But because the HMM forward algorithm is differentiable with respect to all the model parameters, we can also just take advantage of automatic differentiation methods in libraries like PyTorch and try to minimize $-\\text{log }p_{\\theta}(\\mathbf{x})$ directly, by backpropagating through the forward algorithm and running stochastic gradient descent. That means we don't need to write any additional HMM code to implement training: `loss.backward()` is all you need."
   ]
  },
  {
   "cell_type": "markdown",
   "metadata": {
    "id": "aVh0-369qZDC"
   },
   "source": [
    "Here we will implement SGD training for an HMM in PyTorch. First, some helper classes:"
   ]
  },
  {
   "cell_type": "code",
   "execution_count": 11,
   "metadata": {
    "id": "KqiFobGHwdzc"
   },
   "outputs": [],
   "source": [
    "import torch.utils.data\n",
    "from collections import Counter\n",
    "from sklearn.model_selection import train_test_split\n",
    "\n",
    "class TextDataset(torch.utils.data.Dataset):\n",
    "  def __init__(self, lines):\n",
    "    self.lines = lines # list of strings\n",
    "    collate = Collate() # function for generating a minibatch from strings\n",
    "    self.loader = torch.utils.data.DataLoader(self, batch_size=1024, num_workers=1, shuffle=True, collate_fn=collate)\n",
    "\n",
    "  def __len__(self):\n",
    "    return len(self.lines)\n",
    "\n",
    "  def __getitem__(self, idx):\n",
    "    line = self.lines[idx].lstrip(\" \").rstrip(\"\\n\").rstrip(\" \").rstrip(\"\\n\")\n",
    "    return line\n",
    "\n",
    "class Collate:\n",
    "  def __init__(self):\n",
    "    pass\n",
    "\n",
    "  def __call__(self, batch):\n",
    "    \"\"\"\n",
    "    Returns a minibatch of strings, padded to have the same length.\n",
    "    \"\"\"\n",
    "    x = []\n",
    "    batch_size = len(batch)\n",
    "    for index in range(batch_size):\n",
    "      x_ = batch[index]\n",
    "\n",
    "      # convert letters to integers\n",
    "      x.append(encode(x_))\n",
    "\n",
    "    # pad all sequences with 0 to have same length\n",
    "    x_lengths = [len(x_) for x_ in x]\n",
    "    T = max(x_lengths)\n",
    "    for index in range(batch_size):\n",
    "      x[index] += [0] * (T - len(x[index]))\n",
    "      x[index] = torch.tensor(x[index])\n",
    "\n",
    "    # stack into single tensor\n",
    "    x = torch.stack(x)\n",
    "    x_lengths = torch.tensor(x_lengths)\n",
    "    return (x,x_lengths)"
   ]
  },
  {
   "cell_type": "markdown",
   "metadata": {
    "id": "YpDpwnPnAEA9"
   },
   "source": [
    "Let's load some training/testing data. By default, this will use the unix \"words\" file, but you could also use your own text file."
   ]
  },
  {
   "cell_type": "markdown",
   "metadata": {
    "id": "LsZDnW2OHT-T"
   },
   "source": [
    "Execute the following 2 cells if you are using Google Colab, otherwise just skip. Rename the statement after `cd` with your current directory (e.g. `cd /content/drive/your/current/directory/`). Refer to Assignment1's data loading sceme if you have troubles."
   ]
  },
  {
   "cell_type": "code",
   "execution_count": 12,
   "metadata": {
    "colab": {
     "base_uri": "https://localhost:8080/"
    },
    "id": "u75jPWLbG4m_",
    "outputId": "5bb7a47b-9eb8-4526-f30b-831803b76304"
   },
   "outputs": [
    {
     "name": "stdout",
     "output_type": "stream",
     "text": [
      "Mounted at /content/drive\n"
     ]
    }
   ],
   "source": [
    "# Execute this and below cell if you are using Google Colab, otherwise just skip.\n",
    "from google.colab import drive\n",
    "drive.mount('/content/drive')"
   ]
  },
  {
   "cell_type": "code",
   "execution_count": 13,
   "metadata": {
    "colab": {
     "base_uri": "https://localhost:8080/"
    },
    "id": "30eW3H2yG6Ht",
    "outputId": "6be272f0-217a-4c64-b745-79569157b78c"
   },
   "outputs": [
    {
     "name": "stdout",
     "output_type": "stream",
     "text": [
      "/content/drive/MyDrive\n"
     ]
    }
   ],
   "source": [
    "cd /content/drive/MyDrive/"
   ]
  },
  {
   "cell_type": "code",
   "execution_count": 27,
   "metadata": {
    "id": "52NqFHg8ANsB"
   },
   "outputs": [],
   "source": [
    "filename = \"hmm_training.txt\"\n",
    "\n",
    "with open(filename, \"r\") as f:\n",
    "  lines = f.readlines() # each line of lines will have one word\n",
    "\n",
    "alphabet = list(Counter((\"\".join(lines))).keys())\n",
    "train_lines, valid_lines = train_test_split(lines, test_size=0.1, random_state=42)\n",
    "train_dataset = TextDataset(train_lines)\n",
    "valid_dataset = TextDataset(valid_lines)\n",
    "\n",
    "M = len(alphabet)"
   ]
  },
  {
   "cell_type": "markdown",
   "metadata": {
    "id": "H0AqmyrK7IUn"
   },
   "source": [
    "We will use a Trainer class for training and testing the model:\n",
    "\n"
   ]
  },
  {
   "cell_type": "code",
   "execution_count": 19,
   "metadata": {
    "id": "iypy_neX9cpq"
   },
   "outputs": [],
   "source": [
    "from tqdm import tqdm # for displaying progress bar\n",
    "\n",
    "class Trainer:\n",
    "  def __init__(self, model, lr):\n",
    "    self.model = model\n",
    "    self.lr = lr\n",
    "    self.optimizer = torch.optim.Adam(model.parameters(), lr=self.lr, weight_decay=0.00001)\n",
    "  \n",
    "  def train(self, dataset):\n",
    "    train_loss = 0\n",
    "    num_samples = 0\n",
    "    self.model.train()\n",
    "    print_interval = 50\n",
    "    for idx, batch in enumerate(tqdm(dataset.loader)):\n",
    "      x,T = batch\n",
    "      batch_size = len(x)\n",
    "      num_samples += batch_size\n",
    "      log_probs = self.model(x,T)\n",
    "      loss = -log_probs.mean()\n",
    "      self.optimizer.zero_grad()\n",
    "      loss.backward()\n",
    "      self.optimizer.step()\n",
    "      train_loss += loss.cpu().data.numpy().item() * batch_size\n",
    "      if idx % print_interval == 0:\n",
    "        print(\"loss:\", loss.item())\n",
    "        for _ in range(5):\n",
    "          sampled_x, sampled_z = self.model.sample()\n",
    "          print(decode(sampled_x))\n",
    "          print(sampled_z)\n",
    "    train_loss /= num_samples\n",
    "    return train_loss\n",
    "\n",
    "  def test(self, dataset):\n",
    "    test_loss = 0\n",
    "    num_samples = 0\n",
    "    self.model.eval()\n",
    "    print_interval = 50\n",
    "    for idx, batch in enumerate(tqdm(dataset.loader)):\n",
    "      x,T = batch\n",
    "      batch_size = len(x)\n",
    "      num_samples += batch_size\n",
    "      log_probs = self.model(x,T)\n",
    "      loss = -log_probs.mean()\n",
    "      test_loss += loss.cpu().data.numpy().item() * batch_size\n",
    "      if idx % print_interval == 0:\n",
    "        print(\"loss:\", loss.item())\n",
    "        sampled_x, sampled_z = self.model.sample()\n",
    "        print(decode(sampled_x))\n",
    "        print(sampled_z)\n",
    "    test_loss /= num_samples\n",
    "    return test_loss"
   ]
  },
  {
   "cell_type": "markdown",
   "metadata": {
    "id": "mUR8qbHm9dMg"
   },
   "source": [
    "Finally, initialize the model and run the main training loop. Every 50 batches, the code will produce a few samples from the model. Over time, these samples should look more and more realistic."
   ]
  },
  {
   "cell_type": "code",
   "execution_count": 20,
   "metadata": {
    "colab": {
     "base_uri": "https://localhost:8080/"
    },
    "id": "1-NGIK1Q9g2C",
    "outputId": "ce236866-7d68-473a-d0f9-8054d53e1f69"
   },
   "outputs": [
    {
     "name": "stdout",
     "output_type": "stream",
     "text": [
      "54\n",
      "========= Epoch 1 of 10 =========\n",
      "whatisthis: HMM(\n",
      "  (transition_model): TransitionModel()\n",
      "  (emission_model): EmissionModel()\n",
      ")\n"
     ]
    },
    {
     "name": "stderr",
     "output_type": "stream",
     "text": [
      "\r",
      "  0%|          | 0/208 [00:00<?, ?it/s]"
     ]
    },
    {
     "name": "stdout",
     "output_type": "stream",
     "text": [
      "loss: 80.51759338378906\n",
      "pjBlnOuGzn\n",
      "[57, 28, 48, 52, 20, 49, 14, 51, 15, 21]\n",
      "zDpVcBtegX\n",
      "[13, 29, 44, 14, 63, 19, 43, 45, 63, 56]\n",
      "cbnewbkJIB\n",
      "[13, 32, 34, 2, 20, 53, 33, 61, 56, 19]\n"
     ]
    },
    {
     "name": "stderr",
     "output_type": "stream",
     "text": [
      "  1%|▏         | 3/208 [00:00<00:19, 10.68it/s]"
     ]
    },
    {
     "name": "stdout",
     "output_type": "stream",
     "text": [
      "tgszRp-ODa\n",
      "[53, 56, 38, 8, 24, 8, 55, 3, 31, 41]\n",
      "zelJ-CQCeb\n",
      "[13, 42, 21, 25, 17, 34, 52, 35, 35, 20]\n"
     ]
    },
    {
     "name": "stderr",
     "output_type": "stream",
     "text": [
      " 25%|██▌       | 53/208 [00:02<00:06, 22.57it/s]"
     ]
    },
    {
     "name": "stdout",
     "output_type": "stream",
     "text": [
      "loss: 67.95588684082031\n",
      "ARasw-eAlV\n",
      "[29, 35, 5, 45, 13, 63, 48, 5, 54, 55]\n",
      "fGwFJrrBux\n",
      "[48, 27, 20, 47, 48, 55, 23, 37, 54, 27]\n",
      "VplGqEakqd\n",
      "[54, 48, 52, 25, 17, 49, 41, 9, 16, 14]\n",
      "mtqeLZwytP\n",
      "[38, 2, 0, 48, 20, 49, 13, 49, 8, 43]\n",
      "egmALZwPAW\n",
      "[48, 0, 31, 29, 51, 5, 13, 13, 37, 49]\n"
     ]
    },
    {
     "name": "stderr",
     "output_type": "stream",
     "text": [
      " 50%|█████     | 104/208 [00:04<00:04, 22.90it/s]"
     ]
    },
    {
     "name": "stdout",
     "output_type": "stream",
     "text": [
      "loss: 56.32550811767578\n",
      "iNcxFAAtth\n",
      "[49, 32, 48, 49, 21, 61, 16, 53, 49, 60]\n",
      "esAlVAlinD\n",
      "[55, 54, 20, 42, 13, 46, 14, 41, 49, 55]\n",
      "klnmpbteXn\n",
      "[56, 60, 41, 55, 8, 48, 42, 48, 13, 34]\n",
      "wAAAGtmiaR\n",
      "[20, 46, 13, 43, 40, 16, 26, 31, 41, 21]\n",
      "WAHvARXHCr\n",
      "[40, 54, 20, 20, 46, 5, 13, 37, 51, 6]\n"
     ]
    },
    {
     "name": "stderr",
     "output_type": "stream",
     "text": [
      " 75%|███████▍  | 155/208 [00:06<00:02, 23.77it/s]"
     ]
    },
    {
     "name": "stdout",
     "output_type": "stream",
     "text": [
      "loss: 38.549560546875\n",
      "dlpAAbAAAA\n",
      "[57, 60, 47, 62, 13, 43, 62, 62, 62, 20]\n",
      "orqeikmrte\n",
      "[48, 32, 8, 48, 10, 10, 12, 41, 12, 48]\n",
      "stnnnnahpu\n",
      "[61, 56, 31, 19, 48, 49, 41, 12, 48, 12]\n",
      "luuafipatt\n",
      "[48, 21, 12, 8, 48, 1, 48, 41, 49, 41]\n",
      "lolnkzIhtR\n",
      "[12, 48, 22, 21, 12, 59, 51, 13, 43, 35]\n"
     ]
    },
    {
     "name": "stderr",
     "output_type": "stream",
     "text": [
      " 98%|█████████▊| 203/208 [00:08<00:00, 22.10it/s]"
     ]
    },
    {
     "name": "stdout",
     "output_type": "stream",
     "text": [
      "loss: 35.29403305053711\n",
      "ihRigelAnt\n",
      "[48, 12, 48, 41, 49, 8, 4, 13, 19, 13]\n",
      "ayioeVAlet\n",
      "[48, 48, 32, 48, 5, 47, 20, 49, 8, 48]\n",
      "ozciohgaba\n",
      "[48, 41, 49, 8, 32, 32, 6, 8, 48, 8]\n",
      "ettesuBtpg\n",
      "[48, 12, 48, 63, 12, 8, 48, 12, 48, 48]\n",
      "tt\n",
      "aprcrle\n",
      "[48, 58, 48, 8, 48, 32, 48, 8, 48, 8]\n"
     ]
    },
    {
     "name": "stderr",
     "output_type": "stream",
     "text": [
      "100%|██████████| 208/208 [00:08<00:00, 23.91it/s]\n",
      " 25%|██▌       | 6/24 [00:00<00:00, 31.31it/s]"
     ]
    },
    {
     "name": "stdout",
     "output_type": "stream",
     "text": [
      "loss: 33.444942474365234\n",
      "obnnevpdtP\n",
      "[48, 48, 38, 8, 48, 32, 48, 48, 12, 48]\n"
     ]
    },
    {
     "name": "stderr",
     "output_type": "stream",
     "text": [
      "100%|██████████| 24/24 [00:00<00:00, 40.06it/s]\n"
     ]
    },
    {
     "name": "stdout",
     "output_type": "stream",
     "text": [
      "========= Results: epoch 1 of 10 =========\n",
      "train loss: 53.02| valid loss: 33.86\n",
      "\n",
      "========= Epoch 2 of 10 =========\n",
      "whatisthis: HMM(\n",
      "  (transition_model): TransitionModel()\n",
      "  (emission_model): EmissionModel()\n",
      ")\n"
     ]
    },
    {
     "name": "stderr",
     "output_type": "stream",
     "text": [
      "  0%|          | 1/208 [00:00<00:37,  5.59it/s]"
     ]
    },
    {
     "name": "stdout",
     "output_type": "stream",
     "text": [
      "loss: 34.37731170654297\n",
      "fiiipoeLok\n",
      "[48, 42, 63, 8, 48, 8, 48, 8, 48, 39]\n",
      "erJreinrou\n",
      "[32, 32, 53, 32, 32, 8, 48, 12, 8, 48]\n",
      "toposFsnno\n",
      "[48, 8, 48, 48, 32, 9, 20, 49, 49, 8]\n",
      "iraoXdALUA\n",
      "[32, 32, 48, 8, 32, 53, 46, 47, 16, 62]\n",
      "lngrrseama\n",
      "[48, 8, 48, 32, 32, 63, 8, 48, 12, 8]\n"
     ]
    },
    {
     "name": "stderr",
     "output_type": "stream",
     "text": [
      " 26%|██▋       | 55/208 [00:02<00:06, 23.28it/s]"
     ]
    },
    {
     "name": "stdout",
     "output_type": "stream",
     "text": [
      "loss: 31.558984756469727\n",
      "oebOpTmvac\n",
      "[48, 8, 48, 12, 48, 48, 48, 48, 8, 48]\n",
      "anAeycntlr\n",
      "[5, 3, 40, 59, 29, 48, 49, 48, 48, 48]\n",
      "relabreFvi\n",
      "[48, 41, 12, 8, 48, 49, 8, 48, 48, 8]\n",
      "nesAeumzms\n",
      "[48, 8, 48, 13, 32, 48, 48, 48, 48, 12]\n",
      "zoriswotMt\n",
      "[48, 8, 48, 8, 48, 48, 8, 48, 48, 12]\n"
     ]
    },
    {
     "name": "stderr",
     "output_type": "stream",
     "text": [
      " 50%|████▉     | 103/208 [00:04<00:04, 23.31it/s]"
     ]
    },
    {
     "name": "stdout",
     "output_type": "stream",
     "text": [
      "loss: 30.256080627441406\n",
      "colineogrf\n",
      "[48, 8, 48, 8, 48, 32, 8, 48, 48, 48]\n",
      "horehAAAAA\n",
      "[48, 8, 61, 45, 40, 46, 46, 46, 46, 47]\n",
      "rraolebetu\n",
      "[48, 48, 8, 48, 12, 8, 48, 8, 48, 8]\n",
      "mpaSofysno\n",
      "[48, 48, 41, 49, 8, 48, 8, 48, 49, 8]\n",
      "sneugdmrya\n",
      "[48, 48, 8, 48, 8, 48, 48, 48, 17, 8]\n"
     ]
    },
    {
     "name": "stderr",
     "output_type": "stream",
     "text": [
      " 74%|███████▍  | 154/208 [00:06<00:02, 23.45it/s]"
     ]
    },
    {
     "name": "stdout",
     "output_type": "stream",
     "text": [
      "loss: 28.45484161376953\n",
      "rilmnmamad\n",
      "[48, 8, 48, 12, 48, 48, 41, 12, 8, 48]\n",
      "ltseezniln\n",
      "[60, 12, 48, 48, 8, 48, 49, 8, 48, 8]\n",
      "atlolduror\n",
      "[8, 48, 49, 8, 48, 48, 8, 48, 8, 48]\n",
      "ceribeuvry\n",
      "[48, 8, 48, 8, 48, 8, 48, 48, 48, 8]\n",
      "rhemcoorlr\n",
      "[8, 48, 8, 48, 48, 8, 48, 48, 48, 48]\n"
     ]
    },
    {
     "name": "stderr",
     "output_type": "stream",
     "text": [
      " 99%|█████████▊| 205/208 [00:08<00:00, 24.63it/s]"
     ]
    },
    {
     "name": "stdout",
     "output_type": "stream",
     "text": [
      "loss: 28.476364135742188\n",
      "pipihfplie\n",
      "[48, 8, 48, 8, 32, 48, 48, 48, 8, 32]\n",
      "crkAAAAebe\n",
      "[48, 48, 5, 20, 46, 20, 46, 32, 48, 32]\n",
      "pporutoWcn\n",
      "[48, 48, 8, 48, 8, 48, 8, 23, 10, 49]\n",
      "eekliymkma\n",
      "[48, 8, 48, 48, 49, 8, 48, 48, 48, 8]\n",
      "cotrstpohe\n",
      "[48, 8, 48, 32, 48, 48, 48, 8, 48, 8]\n"
     ]
    },
    {
     "name": "stderr",
     "output_type": "stream",
     "text": [
      "100%|██████████| 208/208 [00:08<00:00, 24.24it/s]\n",
      " 25%|██▌       | 6/24 [00:00<00:00, 30.88it/s]"
     ]
    },
    {
     "name": "stdout",
     "output_type": "stream",
     "text": [
      "loss: 28.723304748535156\n",
      "oramoirire\n",
      "[8, 48, 8, 48, 48, 8, 48, 8, 48, 8]\n"
     ]
    },
    {
     "name": "stderr",
     "output_type": "stream",
     "text": [
      "100%|██████████| 24/24 [00:00<00:00, 39.23it/s]\n"
     ]
    },
    {
     "name": "stdout",
     "output_type": "stream",
     "text": [
      "========= Results: epoch 2 of 10 =========\n",
      "train loss: 30.28| valid loss: 28.31\n",
      "\n",
      "========= Epoch 3 of 10 =========\n",
      "whatisthis: HMM(\n",
      "  (transition_model): TransitionModel()\n",
      "  (emission_model): EmissionModel()\n",
      ")\n"
     ]
    },
    {
     "name": "stderr",
     "output_type": "stream",
     "text": [
      "  0%|          | 1/208 [00:00<00:35,  5.79it/s]"
     ]
    },
    {
     "name": "stdout",
     "output_type": "stream",
     "text": [
      "loss: 27.64019203186035\n",
      "irGtegcycp\n",
      "[8, 32, 48, 48, 8, 48, 48, 8, 48, 48]\n",
      "uesodohorc\n",
      "[48, 8, 48, 8, 48, 8, 48, 8, 48, 48]\n",
      "azedabgtlo\n",
      "[8, 48, 8, 48, 8, 48, 48, 48, 49, 8]\n",
      "tapmneregn\n",
      "[48, 8, 48, 48, 48, 8, 48, 8, 48, 49]\n",
      "apioakapic\n",
      "[8, 48, 8, 48, 8, 48, 8, 48, 8, 48]\n"
     ]
    },
    {
     "name": "stderr",
     "output_type": "stream",
     "text": [
      " 26%|██▋       | 55/208 [00:02<00:06, 23.74it/s]"
     ]
    },
    {
     "name": "stdout",
     "output_type": "stream",
     "text": [
      "loss: 27.575496673583984\n",
      "sicgaXbipe\n",
      "[48, 8, 48, 48, 8, 48, 48, 8, 48, 8]\n",
      "letetTritu\n",
      "[48, 8, 48, 8, 48, 48, 32, 41, 12, 8]\n",
      "aradnehoib\n",
      "[8, 48, 8, 48, 49, 8, 32, 48, 8, 48]\n",
      "hnaspowmpm\n",
      "[48, 49, 8, 48, 48, 8, 48, 48, 8, 48]\n",
      "rpueoettah\n",
      "[48, 48, 8, 32, 48, 8, 48, 48, 8, 32]\n"
     ]
    },
    {
     "name": "stderr",
     "output_type": "stream",
     "text": [
      " 50%|████▉     | 103/208 [00:04<00:04, 23.23it/s]"
     ]
    },
    {
     "name": "stdout",
     "output_type": "stream",
     "text": [
      "loss: 27.231449127197266\n",
      "annumencte\n",
      "[8, 48, 49, 8, 48, 8, 48, 48, 48, 8]\n",
      "mnasochehp\n",
      "[48, 49, 8, 48, 8, 48, 48, 8, 32, 48]\n",
      "hoanalutod\n",
      "[32, 48, 8, 48, 8, 48, 8, 48, 8, 48]\n",
      "matlamrige\n",
      "[48, 8, 48, 49, 8, 48, 49, 8, 48, 8]\n",
      "saterricyt\n",
      "[48, 8, 48, 8, 48, 48, 8, 48, 8, 48]\n"
     ]
    },
    {
     "name": "stderr",
     "output_type": "stream",
     "text": [
      " 74%|███████▍  | 154/208 [00:06<00:02, 24.07it/s]"
     ]
    },
    {
     "name": "stdout",
     "output_type": "stream",
     "text": [
      "loss: 27.13924789428711\n",
      "Iundoitoln\n",
      "[48, 8, 48, 49, 8, 8, 48, 8, 48, 49]\n",
      "ssobenemco\n",
      "[48, 49, 8, 48, 8, 48, 8, 48, 48, 8]\n",
      "ignurmzird\n",
      "[21, 56, 49, 8, 48, 0, 10, 41, 12, 48]\n",
      "icaabnatni\n",
      "[8, 48, 48, 8, 48, 49, 8, 48, 49, 8]\n",
      "gebopohmro\n",
      "[48, 8, 48, 8, 48, 8, 32, 48, 48, 8]\n"
     ]
    },
    {
     "name": "stderr",
     "output_type": "stream",
     "text": [
      " 99%|█████████▊| 205/208 [00:08<00:00, 23.44it/s]"
     ]
    },
    {
     "name": "stdout",
     "output_type": "stream",
     "text": [
      "loss: 27.188587188720703\n",
      "dmarclirmt\n",
      "[48, 48, 8, 32, 48, 49, 8, 48, 48, 48]\n",
      "rtapnafuoi\n",
      "[48, 48, 8, 48, 49, 8, 48, 8, 8, 41]\n",
      "esopteRyAA\n",
      "[8, 48, 8, 48, 48, 8, 48, 11, 62, 35]\n",
      "icmocnaetm\n",
      "[8, 48, 48, 8, 48, 49, 8, 8, 48, 48]\n",
      "laehgneeih\n",
      "[48, 8, 8, 32, 26, 49, 8, 8, 1, 12]\n"
     ]
    },
    {
     "name": "stderr",
     "output_type": "stream",
     "text": [
      "100%|██████████| 208/208 [00:08<00:00, 24.36it/s]\n",
      " 25%|██▌       | 6/24 [00:00<00:00, 29.29it/s]"
     ]
    },
    {
     "name": "stdout",
     "output_type": "stream",
     "text": [
      "loss: 27.063762664794922\n",
      "traebnhpno\n",
      "[48, 49, 8, 32, 48, 49, 8, 48, 49, 8]\n"
     ]
    },
    {
     "name": "stderr",
     "output_type": "stream",
     "text": [
      "100%|██████████| 24/24 [00:00<00:00, 37.16it/s]\n"
     ]
    },
    {
     "name": "stdout",
     "output_type": "stream",
     "text": [
      "========= Results: epoch 3 of 10 =========\n",
      "train loss: 27.40| valid loss: 26.86\n",
      "\n",
      "========= Epoch 4 of 10 =========\n",
      "whatisthis: HMM(\n",
      "  (transition_model): TransitionModel()\n",
      "  (emission_model): EmissionModel()\n",
      ")\n"
     ]
    },
    {
     "name": "stderr",
     "output_type": "stream",
     "text": [
      "  0%|          | 1/208 [00:00<00:37,  5.51it/s]"
     ]
    },
    {
     "name": "stdout",
     "output_type": "stream",
     "text": [
      "loss: 26.486295700073242\n",
      "cannesatao\n",
      "[48, 8, 48, 49, 8, 48, 8, 48, 8, 8]\n",
      "romodiflor\n",
      "[48, 8, 48, 8, 48, 8, 48, 49, 8, 32]\n",
      "rAAAAAAAAA\n",
      "[48, 20, 46, 20, 46, 20, 46, 20, 46, 20]\n",
      "biranebupi\n",
      "[48, 8, 48, 8, 48, 8, 48, 8, 48, 8]\n",
      "urorltaver\n",
      "[8, 48, 8, 32, 48, 48, 8, 48, 8, 32]\n"
     ]
    },
    {
     "name": "stderr",
     "output_type": "stream",
     "text": [
      " 26%|██▋       | 55/208 [00:02<00:06, 23.39it/s]"
     ]
    },
    {
     "name": "stdout",
     "output_type": "stream",
     "text": [
      "loss: 26.494384765625\n",
      "alnannugrd\n",
      "[8, 48, 49, 8, 48, 49, 8, 48, 48, 48]\n",
      "cigirtapeo\n",
      "[48, 8, 48, 8, 32, 48, 8, 48, 8, 32]\n",
      "fceqipapal\n",
      "[48, 48, 8, 48, 8, 48, 8, 48, 8, 48]\n",
      "sobnosqodu\n",
      "[48, 8, 48, 49, 8, 48, 48, 8, 48, 8]\n",
      "tocetaytsh\n",
      "[48, 8, 48, 8, 48, 8, 44, 12, 57, 60]\n"
     ]
    },
    {
     "name": "stderr",
     "output_type": "stream",
     "text": [
      " 50%|████▉     | 103/208 [00:04<00:04, 22.61it/s]"
     ]
    },
    {
     "name": "stdout",
     "output_type": "stream",
     "text": [
      "loss: 26.898761749267578\n",
      "tasilmrnap\n",
      "[48, 8, 48, 8, 48, 48, 48, 49, 8, 48]\n",
      "tmauhisupn\n",
      "[48, 48, 8, 8, 48, 8, 48, 8, 48, 49]\n",
      "olosotablu\n",
      "[8, 48, 8, 48, 8, 48, 8, 48, 48, 8]\n",
      "atnupilukn\n",
      "[8, 48, 48, 8, 48, 8, 48, 8, 48, 49]\n",
      "gornuhsesv\n",
      "[48, 8, 48, 49, 8, 32, 48, 8, 48, 48]\n"
     ]
    },
    {
     "name": "stderr",
     "output_type": "stream",
     "text": [
      " 74%|███████▍  | 154/208 [00:06<00:02, 24.25it/s]"
     ]
    },
    {
     "name": "stdout",
     "output_type": "stream",
     "text": [
      "loss: 26.712623596191406\n",
      "bobaccnohr\n",
      "[48, 8, 48, 8, 48, 48, 49, 8, 32, 48]\n",
      "hicnenyrle\n",
      "[48, 8, 48, 49, 8, 48, 8, 32, 12, 8]\n",
      "pnaphkafop\n",
      "[48, 49, 8, 48, 32, 48, 8, 48, 8, 48]\n",
      "bogredrepo\n",
      "[48, 8, 48, 49, 8, 48, 49, 8, 48, 8]\n",
      "serwaatama\n",
      "[48, 8, 32, 48, 49, 8, 48, 8, 48, 8]\n"
     ]
    },
    {
     "name": "stderr",
     "output_type": "stream",
     "text": [
      " 99%|█████████▊| 205/208 [00:08<00:00, 23.93it/s]"
     ]
    },
    {
     "name": "stdout",
     "output_type": "stream",
     "text": [
      "loss: 26.001379013061523\n",
      "itehtuSwna\n",
      "[8, 48, 8, 32, 48, 8, 48, 48, 49, 8]\n",
      "Nucnascarr\n",
      "[48, 8, 48, 49, 8, 48, 49, 8, 32, 48]\n",
      "snufnotble\n",
      "[48, 49, 8, 48, 49, 8, 48, 48, 49, 8]\n",
      "bafuplialm\n",
      "[48, 8, 48, 8, 48, 49, 8, 8, 48, 49]\n",
      "etavatvace\n",
      "[8, 48, 8, 48, 8, 48, 48, 8, 48, 8]\n"
     ]
    },
    {
     "name": "stderr",
     "output_type": "stream",
     "text": [
      "100%|██████████| 208/208 [00:08<00:00, 24.28it/s]\n",
      " 25%|██▌       | 6/24 [00:00<00:00, 29.71it/s]"
     ]
    },
    {
     "name": "stdout",
     "output_type": "stream",
     "text": [
      "loss: 26.576169967651367\n",
      "mgihnovnes\n",
      "[48, 48, 8, 48, 49, 8, 48, 49, 8, 48]\n"
     ]
    },
    {
     "name": "stderr",
     "output_type": "stream",
     "text": [
      "100%|██████████| 24/24 [00:00<00:00, 37.95it/s]\n"
     ]
    },
    {
     "name": "stdout",
     "output_type": "stream",
     "text": [
      "========= Results: epoch 4 of 10 =========\n",
      "train loss: 26.51| valid loss: 26.35\n",
      "\n",
      "========= Epoch 5 of 10 =========\n",
      "whatisthis: HMM(\n",
      "  (transition_model): TransitionModel()\n",
      "  (emission_model): EmissionModel()\n",
      ")\n"
     ]
    },
    {
     "name": "stderr",
     "output_type": "stream",
     "text": [
      "  0%|          | 1/208 [00:00<00:37,  5.49it/s]"
     ]
    },
    {
     "name": "stdout",
     "output_type": "stream",
     "text": [
      "loss: 26.52688980102539\n",
      "taldniohrs\n",
      "[48, 8, 32, 48, 49, 8, 8, 32, 48, 48]\n",
      "lsolotirto\n",
      "[48, 49, 8, 48, 8, 48, 8, 32, 48, 8]\n",
      "ohdicxutue\n",
      "[8, 32, 48, 8, 48, 49, 8, 48, 8, 8]\n",
      "uflokbgipe\n",
      "[8, 48, 49, 8, 8, 48, 49, 8, 48, 8]\n",
      "dacteltruf\n",
      "[48, 8, 48, 48, 8, 32, 48, 49, 8, 48]\n"
     ]
    },
    {
     "name": "stderr",
     "output_type": "stream",
     "text": [
      " 25%|██▌       | 52/208 [00:02<00:06, 22.83it/s]"
     ]
    },
    {
     "name": "stdout",
     "output_type": "stream",
     "text": [
      "loss: 25.807771682739258\n",
      "enrehsimie\n",
      "[8, 48, 49, 8, 32, 48, 8, 48, 8, 32]\n",
      "pfeipnonac\n",
      "[48, 48, 8, 8, 48, 49, 8, 48, 8, 48]\n",
      "anucnidann\n",
      "[8, 48, 8, 48, 49, 8, 48, 8, 48, 49]\n",
      "tocerrorno\n",
      "[48, 8, 48, 8, 32, 48, 8, 48, 49, 8]\n",
      "ecitoywnou\n",
      "[8, 48, 8, 48, 8, 48, 48, 49, 8, 8]\n"
     ]
    },
    {
     "name": "stderr",
     "output_type": "stream",
     "text": [
      " 50%|████▉     | 103/208 [00:04<00:04, 23.23it/s]"
     ]
    },
    {
     "name": "stdout",
     "output_type": "stream",
     "text": [
      "loss: 26.239925384521484\n",
      "iydetfolro\n",
      "[8, 8, 48, 8, 48, 48, 8, 48, 49, 8]\n",
      "rrucarocEe\n",
      "[48, 49, 8, 48, 8, 48, 8, 48, 49, 8]\n",
      "alnebumdod\n",
      "[8, 48, 49, 8, 48, 8, 48, 48, 8, 48]\n",
      "avewolwawu\n",
      "[8, 48, 8, 48, 8, 32, 48, 8, 48, 8]\n",
      "demseaoose\n",
      "[48, 8, 48, 49, 14, 31, 49, 8, 48, 8]\n"
     ]
    },
    {
     "name": "stderr",
     "output_type": "stream",
     "text": [
      " 74%|███████▍  | 154/208 [00:06<00:02, 25.03it/s]"
     ]
    },
    {
     "name": "stdout",
     "output_type": "stream",
     "text": [
      "loss: 25.712116241455078\n",
      "noprumaetr\n",
      "[48, 8, 48, 49, 8, 48, 8, 32, 48, 49]\n",
      "ifetsnymno\n",
      "[8, 48, 8, 48, 48, 49, 8, 48, 49, 8]\n",
      "ahmNorowux\n",
      "[8, 32, 48, 48, 8, 48, 8, 48, 8, 48]\n",
      "fnicaxhbep\n",
      "[48, 49, 8, 48, 8, 48, 8, 48, 8, 48]\n",
      "cipeplruhp\n",
      "[48, 8, 48, 8, 48, 48, 49, 8, 32, 48]\n"
     ]
    },
    {
     "name": "stderr",
     "output_type": "stream",
     "text": [
      " 99%|█████████▊| 205/208 [00:08<00:00, 25.18it/s]"
     ]
    },
    {
     "name": "stdout",
     "output_type": "stream",
     "text": [
      "loss: 25.810077667236328\n",
      "ohmisuhcur\n",
      "[8, 32, 48, 8, 48, 8, 32, 48, 8, 32]\n",
      "mannafrepa\n",
      "[48, 8, 48, 49, 8, 48, 49, 8, 48, 8]\n",
      "tybromgese\n",
      "[48, 8, 48, 49, 8, 48, 49, 8, 48, 8]\n",
      "ageclimnea\n",
      "[8, 48, 8, 48, 49, 8, 48, 49, 8, 48]\n",
      "litabahtam\n",
      "[48, 8, 48, 8, 48, 8, 32, 48, 8, 48]\n"
     ]
    },
    {
     "name": "stderr",
     "output_type": "stream",
     "text": [
      "100%|██████████| 208/208 [00:08<00:00, 24.79it/s]\n",
      " 29%|██▉       | 7/24 [00:00<00:00, 33.43it/s]"
     ]
    },
    {
     "name": "stdout",
     "output_type": "stream",
     "text": [
      "loss: 25.67005729675293\n",
      "uedaanumar\n",
      "[8, 8, 48, 8, 8, 48, 8, 48, 8, 48]\n"
     ]
    },
    {
     "name": "stderr",
     "output_type": "stream",
     "text": [
      "100%|██████████| 24/24 [00:00<00:00, 41.70it/s]\n"
     ]
    },
    {
     "name": "stdout",
     "output_type": "stream",
     "text": [
      "========= Results: epoch 5 of 10 =========\n",
      "train loss: 26.05| valid loss: 25.91\n",
      "\n",
      "========= Epoch 6 of 10 =========\n",
      "whatisthis: HMM(\n",
      "  (transition_model): TransitionModel()\n",
      "  (emission_model): EmissionModel()\n",
      ")\n"
     ]
    },
    {
     "name": "stderr",
     "output_type": "stream",
     "text": [
      "  0%|          | 1/208 [00:00<00:36,  5.67it/s]"
     ]
    },
    {
     "name": "stdout",
     "output_type": "stream",
     "text": [
      "loss: 26.132396697998047\n",
      "eyugattano\n",
      "[8, 48, 8, 48, 8, 48, 12, 31, 34, 42]\n",
      "coumamohnu\n",
      "[48, 8, 8, 48, 8, 48, 8, 48, 49, 8]\n",
      "gnitumperp\n",
      "[48, 49, 8, 48, 8, 48, 48, 8, 32, 48]\n",
      "dtyhcguiks\n",
      "[48, 48, 8, 48, 48, 48, 8, 8, 48, 49]\n",
      "nyocpieieP\n",
      "[48, 8, 8, 48, 48, 8, 8, 8, 8, 48]\n"
     ]
    },
    {
     "name": "stderr",
     "output_type": "stream",
     "text": [
      " 26%|██▋       | 55/208 [00:02<00:06, 24.67it/s]"
     ]
    },
    {
     "name": "stdout",
     "output_type": "stream",
     "text": [
      "loss: 25.30596923828125\n",
      "tosalnlahu\n",
      "[48, 8, 48, 8, 32, 48, 49, 8, 48, 8]\n",
      "crerdculto\n",
      "[48, 49, 8, 32, 48, 49, 8, 32, 48, 8]\n",
      "veinnomana\n",
      "[48, 8, 8, 48, 49, 8, 48, 8, 48, 8]\n",
      "eKlototldy\n",
      "[8, 48, 49, 8, 48, 8, 48, 48, 48, 8]\n",
      "cuiofesakr\n",
      "[48, 8, 8, 8, 48, 8, 48, 8, 48, 49]\n"
     ]
    },
    {
     "name": "stderr",
     "output_type": "stream",
     "text": [
      " 50%|████▉     | 103/208 [00:04<00:04, 23.19it/s]"
     ]
    },
    {
     "name": "stdout",
     "output_type": "stream",
     "text": [
      "loss: 25.649494171142578\n",
      "rnohuthmor\n",
      "[48, 48, 8, 48, 8, 48, 8, 48, 8, 48]\n",
      "bolglEajcu\n",
      "[48, 8, 32, 48, 48, 49, 8, 48, 49, 8]\n",
      "acohysinur\n",
      "[8, 48, 8, 48, 8, 48, 8, 48, 8, 32]\n",
      "ifnalnohsi\n",
      "[8, 48, 49, 8, 48, 49, 8, 32, 48, 8]\n",
      "gulilnnobi\n",
      "[48, 8, 48, 8, 32, 48, 48, 8, 48, 8]\n"
     ]
    },
    {
     "name": "stderr",
     "output_type": "stream",
     "text": [
      " 74%|███████▍  | 154/208 [00:06<00:02, 24.52it/s]"
     ]
    },
    {
     "name": "stdout",
     "output_type": "stream",
     "text": [
      "loss: 25.645458221435547\n",
      "otxecmusim\n",
      "[8, 48, 49, 8, 48, 48, 8, 48, 8, 48]\n",
      "perokogpat\n",
      "[48, 8, 48, 8, 48, 8, 48, 48, 8, 48]\n",
      "vinarcneto\n",
      "[48, 8, 48, 8, 32, 48, 49, 8, 48, 8]\n",
      "yehfnatnat\n",
      "[48, 8, 48, 48, 49, 8, 48, 49, 8, 48]\n",
      "recrodrarc\n",
      "[48, 8, 48, 48, 8, 48, 48, 8, 32, 48]\n"
     ]
    },
    {
     "name": "stderr",
     "output_type": "stream",
     "text": [
      " 99%|█████████▊| 205/208 [00:08<00:00, 24.84it/s]"
     ]
    },
    {
     "name": "stdout",
     "output_type": "stream",
     "text": [
      "loss: 25.412025451660156\n",
      "calolPecad\n",
      "[48, 8, 48, 8, 48, 48, 8, 48, 8, 48]\n",
      "natocnoSep\n",
      "[48, 8, 48, 8, 48, 49, 8, 48, 8, 48]\n",
      "lynusopufu\n",
      "[48, 8, 48, 8, 48, 8, 48, 8, 48, 8]\n",
      "mestrosclo\n",
      "[48, 8, 48, 48, 49, 8, 48, 48, 49, 8]\n",
      "dlesorhere\n",
      "[48, 49, 8, 48, 8, 32, 48, 8, 48, 8]\n"
     ]
    },
    {
     "name": "stderr",
     "output_type": "stream",
     "text": [
      "100%|██████████| 208/208 [00:08<00:00, 25.00it/s]\n",
      " 25%|██▌       | 6/24 [00:00<00:00, 30.32it/s]"
     ]
    },
    {
     "name": "stdout",
     "output_type": "stream",
     "text": [
      "loss: 25.19858741760254\n",
      "trudahcxis\n",
      "[48, 49, 8, 48, 8, 32, 48, 49, 8, 48]\n"
     ]
    },
    {
     "name": "stderr",
     "output_type": "stream",
     "text": [
      "100%|██████████| 24/24 [00:00<00:00, 40.67it/s]\n"
     ]
    },
    {
     "name": "stdout",
     "output_type": "stream",
     "text": [
      "========= Results: epoch 6 of 10 =========\n",
      "train loss: 25.66| valid loss: 25.53\n",
      "\n",
      "========= Epoch 7 of 10 =========\n",
      "whatisthis: HMM(\n",
      "  (transition_model): TransitionModel()\n",
      "  (emission_model): EmissionModel()\n",
      ")\n"
     ]
    },
    {
     "name": "stderr",
     "output_type": "stream",
     "text": [
      "  0%|          | 1/208 [00:00<00:36,  5.74it/s]"
     ]
    },
    {
     "name": "stdout",
     "output_type": "stream",
     "text": [
      "loss: 25.327861785888672\n",
      "imsoprurob\n",
      "[8, 48, 49, 8, 48, 49, 8, 48, 8, 48]\n",
      "otnapisagc\n",
      "[8, 58, 49, 8, 48, 8, 48, 8, 48, 48]\n",
      "orhofrumne\n",
      "[8, 32, 48, 8, 48, 49, 8, 48, 49, 8]\n",
      "mupornitOh\n",
      "[48, 8, 48, 8, 32, 48, 8, 48, 8, 32]\n",
      "snocatsano\n",
      "[48, 49, 8, 48, 8, 48, 49, 8, 48, 8]\n"
     ]
    },
    {
     "name": "stderr",
     "output_type": "stream",
     "text": [
      " 26%|██▋       | 55/208 [00:02<00:06, 25.01it/s]"
     ]
    },
    {
     "name": "stdout",
     "output_type": "stream",
     "text": [
      "loss: 25.314632415771484\n",
      "abirHamtel\n",
      "[8, 48, 8, 32, 48, 8, 48, 48, 8, 48]\n",
      "iSetocricn\n",
      "[8, 48, 8, 48, 8, 48, 48, 8, 48, 49]\n",
      "prolsimret\n",
      "[48, 49, 8, 32, 48, 8, 48, 49, 8, 48]\n",
      "trusavogoc\n",
      "[48, 49, 8, 48, 8, 48, 8, 48, 8, 48]\n",
      "csasciAcor\n",
      "[48, 49, 8, 48, 49, 8, 48, 49, 8, 32]\n"
     ]
    },
    {
     "name": "stderr",
     "output_type": "stream",
     "text": [
      " 50%|████▉     | 103/208 [00:04<00:04, 22.97it/s]"
     ]
    },
    {
     "name": "stdout",
     "output_type": "stream",
     "text": [
      "loss: 25.63541603088379\n",
      "ryherucyha\n",
      "[48, 8, 48, 48, 49, 8, 48, 1, 48, 8]\n",
      "tnoraralmi\n",
      "[48, 49, 8, 48, 8, 48, 8, 48, 49, 8]\n",
      "datipipinl\n",
      "[48, 8, 48, 8, 48, 8, 48, 8, 48, 48]\n",
      "torvseheni\n",
      "[48, 8, 32, 48, 49, 8, 48, 8, 48, 8]\n",
      "onamotnety\n",
      "[8, 48, 8, 48, 8, 58, 49, 8, 48, 8]\n"
     ]
    },
    {
     "name": "stderr",
     "output_type": "stream",
     "text": [
      " 74%|███████▍  | 154/208 [00:06<00:02, 22.88it/s]"
     ]
    },
    {
     "name": "stdout",
     "output_type": "stream",
     "text": [
      "loss: 25.107440948486328\n",
      "ssetiitamn\n",
      "[48, 49, 8, 48, 8, 8, 48, 8, 48, 49]\n",
      "pnedcatoli\n",
      "[48, 49, 8, 48, 49, 8, 48, 8, 48, 8]\n",
      "scattopozs\n",
      "[48, 49, 8, 48, 48, 8, 48, 8, 48, 49]\n",
      "jujmohsedr\n",
      "[48, 8, 48, 49, 8, 32, 48, 8, 48, 49]\n",
      "inatahpnah\n",
      "[8, 48, 8, 48, 8, 32, 48, 49, 8, 32]\n"
     ]
    },
    {
     "name": "stderr",
     "output_type": "stream",
     "text": [
      " 99%|█████████▊| 205/208 [00:08<00:00, 23.17it/s]"
     ]
    },
    {
     "name": "stdout",
     "output_type": "stream",
     "text": [
      "loss: 25.146162033081055\n",
      "nrutvodefA\n",
      "[48, 49, 8, 48, 48, 8, 48, 8, 48, 8]\n",
      "itpennilno\n",
      "[8, 48, 48, 8, 48, 49, 8, 48, 49, 8]\n",
      "lpypcvibid\n",
      "[48, 48, 8, 48, 48, 48, 8, 48, 8, 48]\n",
      "turfrodody\n",
      "[48, 8, 32, 48, 49, 8, 48, 8, 48, 1]\n",
      "uleopissih\n",
      "[8, 48, 8, 8, 48, 8, 48, 49, 8, 32]\n"
     ]
    },
    {
     "name": "stderr",
     "output_type": "stream",
     "text": [
      "100%|██████████| 208/208 [00:08<00:00, 24.06it/s]\n",
      " 21%|██        | 5/24 [00:00<00:00, 24.62it/s]"
     ]
    },
    {
     "name": "stdout",
     "output_type": "stream",
     "text": [
      "loss: 25.761226654052734\n",
      "cetogaexme\n",
      "[48, 8, 48, 8, 48, 8, 32, 48, 49, 8]\n"
     ]
    },
    {
     "name": "stderr",
     "output_type": "stream",
     "text": [
      "100%|██████████| 24/24 [00:00<00:00, 35.48it/s]\n"
     ]
    },
    {
     "name": "stdout",
     "output_type": "stream",
     "text": [
      "========= Results: epoch 7 of 10 =========\n",
      "train loss: 25.31| valid loss: 25.22\n",
      "\n",
      "========= Epoch 8 of 10 =========\n",
      "whatisthis: HMM(\n",
      "  (transition_model): TransitionModel()\n",
      "  (emission_model): EmissionModel()\n",
      ")\n"
     ]
    },
    {
     "name": "stderr",
     "output_type": "stream",
     "text": [
      "\r",
      "  0%|          | 0/208 [00:00<?, ?it/s]"
     ]
    },
    {
     "name": "stdout",
     "output_type": "stream",
     "text": [
      "loss: 25.17666244506836\n",
      "bornehhoco\n",
      "[48, 8, 48, 49, 8, 32, 48, 8, 48, 8]\n",
      "idalcecnal\n",
      "[8, 48, 8, 32, 48, 8, 48, 49, 8, 32]\n",
      "dunypsimqn\n",
      "[48, 8, 48, 1, 48, 49, 8, 48, 48, 49]\n",
      "xrotoreqls\n",
      "[48, 49, 8, 48, 8, 48, 8, 48, 48, 49]\n"
     ]
    },
    {
     "name": "stderr",
     "output_type": "stream",
     "text": [
      "  2%|▏         | 4/208 [00:00<00:14, 14.36it/s]"
     ]
    },
    {
     "name": "stdout",
     "output_type": "stream",
     "text": [
      "cpadamsite\n",
      "[48, 49, 8, 48, 8, 48, 49, 8, 48, 8]\n"
     ]
    },
    {
     "name": "stderr",
     "output_type": "stream",
     "text": [
      " 26%|██▋       | 55/208 [00:02<00:06, 22.45it/s]"
     ]
    },
    {
     "name": "stdout",
     "output_type": "stream",
     "text": [
      "loss: 24.789260864257812\n",
      "meylgosair\n",
      "[48, 8, 32, 48, 48, 8, 48, 8, 8, 32]\n",
      "tecelsirpn\n",
      "[48, 8, 48, 8, 48, 49, 8, 48, 48, 48]\n",
      "pipcoGobyz\n",
      "[48, 8, 48, 48, 8, 48, 8, 48, 8, 48]\n",
      "tropnenihe\n",
      "[48, 49, 8, 48, 49, 8, 48, 8, 48, 8]\n",
      "talejulnas\n",
      "[48, 8, 48, 8, 48, 8, 48, 49, 8, 48]\n"
     ]
    },
    {
     "name": "stderr",
     "output_type": "stream",
     "text": [
      " 50%|████▉     | 103/208 [00:04<00:04, 23.07it/s]"
     ]
    },
    {
     "name": "stdout",
     "output_type": "stream",
     "text": [
      "loss: 25.180400848388672\n",
      "vpapapcuuc\n",
      "[48, 49, 8, 48, 8, 48, 48, 8, 32, 48]\n",
      "Cepocitlew\n",
      "[48, 8, 48, 8, 48, 8, 58, 49, 8, 48]\n",
      "sipalsaten\n",
      "[48, 8, 48, 8, 32, 48, 8, 48, 8, 48]\n",
      "essocnipig\n",
      "[8, 48, 49, 8, 48, 49, 8, 48, 8, 48]\n",
      "teqowznels\n",
      "[48, 8, 48, 8, 32, 48, 49, 8, 48, 48]\n"
     ]
    },
    {
     "name": "stderr",
     "output_type": "stream",
     "text": [
      " 74%|███████▍  | 154/208 [00:06<00:02, 24.31it/s]"
     ]
    },
    {
     "name": "stdout",
     "output_type": "stream",
     "text": [
      "loss: 24.65895652770996\n",
      "cycatvpami\n",
      "[48, 1, 48, 8, 48, 48, 48, 8, 48, 8]\n",
      "certrehnno\n",
      "[48, 8, 32, 58, 49, 8, 32, 48, 49, 8]\n",
      "rnifunytse\n",
      "[48, 49, 8, 48, 8, 48, 1, 48, 49, 8]\n",
      "jataluudaA\n",
      "[48, 8, 48, 8, 48, 8, 32, 48, 8, 48]\n",
      "tortesuycn\n",
      "[48, 8, 32, 48, 8, 48, 49, 8, 48, 49]\n"
     ]
    },
    {
     "name": "stderr",
     "output_type": "stream",
     "text": [
      " 99%|█████████▊| 205/208 [00:08<00:00, 22.85it/s]"
     ]
    },
    {
     "name": "stdout",
     "output_type": "stream",
     "text": [
      "loss: 25.328439712524414\n",
      "isitcMotme\n",
      "[8, 48, 8, 48, 1, 48, 8, 48, 48, 8]\n",
      "Crarnpolog\n",
      "[48, 49, 8, 32, 48, 49, 8, 48, 8, 48]\n",
      "rirtlopmai\n",
      "[48, 8, 32, 58, 49, 8, 48, 48, 42, 41]\n",
      "mypipefsat\n",
      "[48, 1, 48, 8, 48, 8, 48, 49, 8, 48]\n",
      "etolehLnec\n",
      "[8, 48, 8, 48, 8, 32, 48, 49, 8, 48]\n"
     ]
    },
    {
     "name": "stderr",
     "output_type": "stream",
     "text": [
      "100%|██████████| 208/208 [00:08<00:00, 23.98it/s]\n",
      " 25%|██▌       | 6/24 [00:00<00:00, 29.03it/s]"
     ]
    },
    {
     "name": "stdout",
     "output_type": "stream",
     "text": [
      "loss: 24.874446868896484\n",
      "tetahwobsi\n",
      "[48, 8, 48, 8, 32, 48, 8, 48, 49, 8]\n"
     ]
    },
    {
     "name": "stderr",
     "output_type": "stream",
     "text": [
      "100%|██████████| 24/24 [00:00<00:00, 37.83it/s]\n"
     ]
    },
    {
     "name": "stdout",
     "output_type": "stream",
     "text": [
      "========= Results: epoch 8 of 10 =========\n",
      "train loss: 25.06| valid loss: 24.98\n",
      "\n",
      "========= Epoch 9 of 10 =========\n",
      "whatisthis: HMM(\n",
      "  (transition_model): TransitionModel()\n",
      "  (emission_model): EmissionModel()\n",
      ")\n"
     ]
    },
    {
     "name": "stderr",
     "output_type": "stream",
     "text": [
      "\r",
      "  0%|          | 0/208 [00:00<?, ?it/s]"
     ]
    },
    {
     "name": "stdout",
     "output_type": "stream",
     "text": [
      "loss: 24.773387908935547\n",
      "orccencriH\n",
      "[8, 32, 48, 48, 8, 48, 48, 49, 8, 48]\n",
      "tamorretar\n",
      "[48, 8, 48, 8, 32, 48, 8, 48, 8, 32]\n",
      "cnednyhtsa\n",
      "[48, 49, 8, 58, 49, 8, 32, 58, 49, 8]\n",
      "amuoruralp\n",
      "[8, 48, 49, 8, 48, 8, 48, 8, 32, 48]\n",
      "tnitxuusmo\n",
      "[48, 49, 8, 48, 49, 8, 8, 48, 48, 8]"
     ]
    },
    {
     "name": "stderr",
     "output_type": "stream",
     "text": [
      "  2%|▏         | 4/208 [00:00<00:14, 13.99it/s]"
     ]
    },
    {
     "name": "stdout",
     "output_type": "stream",
     "text": [
      "\n"
     ]
    },
    {
     "name": "stderr",
     "output_type": "stream",
     "text": [
      " 26%|██▋       | 55/208 [00:02<00:06, 23.92it/s]"
     ]
    },
    {
     "name": "stdout",
     "output_type": "stream",
     "text": [
      "loss: 24.842042922973633\n",
      "sricalcoil\n",
      "[48, 49, 8, 48, 8, 32, 48, 42, 41, 32]\n",
      "nocapmopur\n",
      "[48, 8, 48, 8, 48, 49, 8, 48, 8, 48]\n",
      "tuhanibycy\n",
      "[48, 8, 48, 8, 48, 8, 48, 1, 48, 49]\n",
      "cprihriosn\n",
      "[48, 48, 49, 8, 48, 49, 8, 32, 48, 48]\n",
      "papigemcod\n",
      "[48, 8, 48, 8, 48, 8, 48, 49, 8, 48]\n"
     ]
    },
    {
     "name": "stderr",
     "output_type": "stream",
     "text": [
      " 50%|████▉     | 103/208 [00:04<00:04, 23.13it/s]"
     ]
    },
    {
     "name": "stdout",
     "output_type": "stream",
     "text": [
      "loss: 24.84268569946289\n",
      "hrorwocpan\n",
      "[48, 49, 8, 32, 48, 8, 48, 49, 8, 48]\n",
      "bytmnopnam\n",
      "[48, 1, 48, 48, 49, 8, 48, 49, 8, 48]\n",
      "bnarealreo\n",
      "[48, 49, 8, 48, 8, 8, 48, 49, 8, 8]\n",
      "pavnocsosh\n",
      "[48, 8, 48, 49, 8, 48, 49, 8, 48, 48]\n",
      "seupytomac\n",
      "[48, 8, 8, 48, 1, 48, 8, 48, 8, 48]\n"
     ]
    },
    {
     "name": "stderr",
     "output_type": "stream",
     "text": [
      " 74%|███████▍  | 154/208 [00:06<00:02, 23.47it/s]"
     ]
    },
    {
     "name": "stdout",
     "output_type": "stream",
     "text": [
      "loss: 24.95196533203125\n",
      "ipohipttno\n",
      "[8, 48, 8, 48, 8, 48, 48, 48, 49, 8]\n",
      "phGesomsti\n",
      "[48, 30, 48, 8, 48, 8, 48, 48, 48, 8]\n",
      "lmypavmsyl\n",
      "[48, 48, 1, 48, 8, 48, 48, 49, 8, 48]\n",
      "saidoegcaa\n",
      "[48, 8, 8, 48, 8, 8, 48, 48, 8, 8]\n",
      "ofiletorno\n",
      "[8, 48, 8, 48, 8, 48, 8, 48, 49, 8]\n"
     ]
    },
    {
     "name": "stderr",
     "output_type": "stream",
     "text": [
      " 99%|█████████▊| 205/208 [00:08<00:00, 23.63it/s]"
     ]
    },
    {
     "name": "stdout",
     "output_type": "stream",
     "text": [
      "loss: 24.850664138793945\n",
      "lafyteragn\n",
      "[48, 8, 48, 1, 48, 8, 48, 8, 48, 48]\n",
      "mcermnAAAA\n",
      "[48, 49, 8, 32, 48, 49, 37, 35, 35, 20]\n",
      "cicnigalel\n",
      "[48, 8, 48, 49, 8, 48, 8, 48, 8, 48]\n",
      "sifomnibno\n",
      "[48, 8, 48, 8, 48, 49, 8, 48, 49, 8]\n",
      "ynrabelsne\n",
      "[8, 48, 49, 8, 48, 8, 32, 48, 49, 8]\n"
     ]
    },
    {
     "name": "stderr",
     "output_type": "stream",
     "text": [
      "100%|██████████| 208/208 [00:08<00:00, 24.15it/s]\n",
      " 25%|██▌       | 6/24 [00:00<00:00, 30.01it/s]"
     ]
    },
    {
     "name": "stdout",
     "output_type": "stream",
     "text": [
      "loss: 24.864639282226562\n",
      "teslemurpl\n",
      "[48, 8, 48, 49, 8, 48, 8, 32, 48, 49]\n"
     ]
    },
    {
     "name": "stderr",
     "output_type": "stream",
     "text": [
      "100%|██████████| 24/24 [00:00<00:00, 40.01it/s]\n"
     ]
    },
    {
     "name": "stdout",
     "output_type": "stream",
     "text": [
      "========= Results: epoch 9 of 10 =========\n",
      "train loss: 24.85| valid loss: 24.83\n",
      "\n",
      "========= Epoch 10 of 10 =========\n",
      "whatisthis: HMM(\n",
      "  (transition_model): TransitionModel()\n",
      "  (emission_model): EmissionModel()\n",
      ")\n"
     ]
    },
    {
     "name": "stderr",
     "output_type": "stream",
     "text": [
      "  2%|▏         | 4/208 [00:00<00:20, 10.10it/s]"
     ]
    },
    {
     "name": "stdout",
     "output_type": "stream",
     "text": [
      "loss: 24.932445526123047\n",
      "aluMrothcu\n",
      "[8, 48, 8, 48, 18, 59, 10, 30, 48, 8]\n",
      "ebesopfalo\n",
      "[8, 48, 8, 48, 8, 48, 49, 8, 48, 8]\n",
      "hpesebapno\n",
      "[48, 48, 8, 48, 8, 48, 8, 48, 49, 8]\n",
      "odecylarct\n",
      "[8, 48, 8, 48, 1, 48, 8, 32, 48, 48]\n",
      "tnesurtcue\n",
      "[48, 49, 8, 48, 8, 32, 58, 49, 8, 32]\n"
     ]
    },
    {
     "name": "stderr",
     "output_type": "stream",
     "text": [
      " 26%|██▋       | 55/208 [00:02<00:06, 23.29it/s]"
     ]
    },
    {
     "name": "stdout",
     "output_type": "stream",
     "text": [
      "loss: 24.965322494506836\n",
      "celdnahccu\n",
      "[48, 8, 32, 48, 49, 8, 32, 48, 48, 8]\n",
      "tnecosateg\n",
      "[48, 49, 8, 48, 8, 48, 8, 48, 8, 48]\n",
      "conutedsar\n",
      "[48, 8, 48, 8, 48, 8, 48, 48, 8, 32]\n",
      "lurcnuesut\n",
      "[48, 8, 32, 48, 49, 8, 32, 48, 8, 48]\n",
      "iceCotyfru\n",
      "[8, 48, 8, 48, 8, 48, 1, 48, 49, 8]\n"
     ]
    },
    {
     "name": "stderr",
     "output_type": "stream",
     "text": [
      " 50%|████▉     | 103/208 [00:04<00:04, 23.28it/s]"
     ]
    },
    {
     "name": "stdout",
     "output_type": "stream",
     "text": [
      "loss: 24.980297088623047\n",
      "lnotnihDru\n",
      "[48, 49, 8, 48, 48, 8, 32, 48, 49, 8]\n",
      "puhvicietg\n",
      "[48, 8, 32, 48, 8, 48, 8, 8, 48, 48]\n",
      "sosapnopri\n",
      "[48, 8, 48, 8, 48, 49, 8, 48, 48, 8]\n",
      "phircasoth\n",
      "[48, 48, 8, 32, 48, 8, 48, 8, 32, 30]\n",
      "smprnatsuh\n",
      "[48, 8, 48, 48, 49, 8, 48, 49, 8, 32]\n"
     ]
    },
    {
     "name": "stderr",
     "output_type": "stream",
     "text": [
      " 74%|███████▍  | 154/208 [00:06<00:02, 23.25it/s]"
     ]
    },
    {
     "name": "stdout",
     "output_type": "stream",
     "text": [
      "loss: 24.86968421936035\n",
      "atocutoTof\n",
      "[8, 48, 8, 48, 8, 48, 8, 48, 8, 48]\n",
      "elogarorip\n",
      "[8, 48, 8, 48, 8, 48, 8, 48, 8, 48]\n",
      "anoTebnotE\n",
      "[8, 48, 8, 48, 8, 48, 49, 8, 48, 8]\n",
      "ilegupatat\n",
      "[8, 48, 8, 48, 8, 48, 8, 48, 8, 48]\n",
      "puholofcoc\n",
      "[48, 8, 48, 8, 48, 8, 48, 49, 8, 48]\n"
     ]
    },
    {
     "name": "stderr",
     "output_type": "stream",
     "text": [
      " 99%|█████████▊| 205/208 [00:08<00:00, 24.75it/s]"
     ]
    },
    {
     "name": "stdout",
     "output_type": "stream",
     "text": [
      "loss: 24.62409210205078\n",
      "rlaehfehhc\n",
      "[48, 49, 8, 32, 30, 48, 8, 32, 30, 48]\n",
      "tnacydcsnu\n",
      "[48, 49, 8, 48, 8, 48, 48, 48, 49, 8]\n",
      "ralalGxetu\n",
      "[48, 8, 48, 8, 48, 48, 49, 8, 48, 8]\n",
      "icknemotab\n",
      "[8, 48, 3, 49, 8, 48, 8, 48, 8, 48]\n",
      "rumorteMop\n",
      "[48, 8, 48, 8, 32, 48, 8, 48, 8, 48]\n"
     ]
    },
    {
     "name": "stderr",
     "output_type": "stream",
     "text": [
      "100%|██████████| 208/208 [00:08<00:00, 23.31it/s]\n",
      " 21%|██        | 5/24 [00:00<00:00, 26.52it/s]"
     ]
    },
    {
     "name": "stdout",
     "output_type": "stream",
     "text": [
      "loss: 24.747407913208008\n",
      "cnesnediht\n",
      "[48, 49, 8, 48, 49, 8, 48, 8, 32, 48]\n"
     ]
    },
    {
     "name": "stderr",
     "output_type": "stream",
     "text": [
      "100%|██████████| 24/24 [00:00<00:00, 40.51it/s]"
     ]
    },
    {
     "name": "stdout",
     "output_type": "stream",
     "text": [
      "========= Results: epoch 10 of 10 =========\n",
      "train loss: 24.75| valid loss: 24.75\n",
      "\n"
     ]
    },
    {
     "name": "stderr",
     "output_type": "stream",
     "text": [
      "\n"
     ]
    }
   ],
   "source": [
    "# Initialize model\n",
    "model = HMM(N=64, M=M)\n",
    "print(M)\n",
    "# Train the model\n",
    "num_epochs = 10\n",
    "trainer = Trainer(model, lr=0.01)\n",
    "\n",
    "for epoch in range(num_epochs):\n",
    "    print(\"========= Epoch %d of %d =========\" % (epoch+1, num_epochs))\n",
    "    train_loss = trainer.train(train_dataset)\n",
    "    valid_loss = trainer.test(valid_dataset)\n",
    "\n",
    "    print(\"========= Results: epoch %d of %d =========\" % (epoch+1, num_epochs))\n",
    "    print(\"train loss: %.2f| valid loss: %.2f\\n\" % (train_loss, valid_loss))\n",
    "\n",
    "torch.save(model.state_dict(), 'HMM.pth')"
   ]
  },
  {
   "cell_type": "markdown",
   "metadata": {
    "id": "zymBj9QrDHRM"
   },
   "source": [
    "**TODO 5**: Try to decode some different sequences (e.g. proper words, misspelled words) with the Viterbi algorithm and give an explanation about the results."
   ]
  },
  {
   "cell_type": "code",
   "execution_count": 65,
   "metadata": {
    "colab": {
     "base_uri": "https://localhost:8080/"
    },
    "id": "auBibYUTtIom",
    "outputId": "a13e5fd1-fc35-430c-d5c6-a897da37512a"
   },
   "outputs": [
    {
     "name": "stdout",
     "output_type": "stream",
     "text": [
      "\n",
      " 1. 영어 일상어\n",
      "time -9.742241859436035\n",
      "boy -11.735644340515137\n",
      "girl -11.534860610961914\n",
      "work -13.94454574584961\n",
      "\n",
      " 2. 영어 전문어\n",
      "benchmark -30.31708526611328\n",
      "differentiated -43.4920654296875\n",
      "laplace -17.901363372802734\n",
      "fourier -22.890518188476562\n",
      "\n",
      " 3. 프랑스 일상어\n",
      "temps -14.856160163879395\n",
      "Garcon -18.604888916015625\n",
      "Fille -18.491153717041016\n",
      "Une -12.896363258361816\n",
      "\n",
      " 4. 영어 complex 오타 비교\n",
      "complex -22.877077102661133\n",
      "complecs -23.162832260131836\n",
      "conplex -23.08810043334961\n",
      "conplecs -23.37385368347168\n"
     ]
    }
   ],
   "source": [
    "##############################################################################\n",
    "#                          IMPLEMENT YOUR CODE                               #\n",
    "##############################################################################\n",
    "\n",
    "def get_viterbi_score_and_path(str):\n",
    "  x = torch.stack( [torch.tensor(encode(str))] )\n",
    "  T = torch.tensor([len(str)])\n",
    "  print(str, model.viterbi(x,T)[1].cpu().data.numpy().item())\n",
    "\n",
    "print(\"\\n\" ,\"1. 영어 일상어\")\n",
    "get_viterbi_score_and_path(\"time\")\n",
    "get_viterbi_score_and_path(\"boy\")\n",
    "get_viterbi_score_and_path(\"girl\")\n",
    "get_viterbi_score_and_path(\"work\")\n",
    "\n",
    "print(\"\\n\" ,\"2. 영어 전문어\")\n",
    "get_viterbi_score_and_path(\"benchmark\")\n",
    "get_viterbi_score_and_path(\"differentiated\")\n",
    "get_viterbi_score_and_path(\"laplace\")\n",
    "get_viterbi_score_and_path(\"fourier\")\n",
    "\n",
    "print(\"\\n\" ,\"3. 프랑스 일상어\")\n",
    "get_viterbi_score_and_path(\"temps\")\n",
    "get_viterbi_score_and_path(\"Garcon\")\n",
    "get_viterbi_score_and_path(\"Fille\")\n",
    "get_viterbi_score_and_path(\"Une\")\n",
    "\n",
    "print(\"\\n\" ,\"4. 영어 complex 오타 비교\")\n",
    "get_viterbi_score_and_path(\"complex\")\n",
    "get_viterbi_score_and_path(\"complecs\")\n",
    "get_viterbi_score_and_path(\"conplex\")\n",
    "get_viterbi_score_and_path(\"conplecs\")\n",
    "\n",
    "\n",
    "##############################################################################\n",
    "#                          END OF YOUR CODE                                  #\n",
    "##############################################################################"
   ]
  },
  {
   "cell_type": "markdown",
   "metadata": {
    "id": "XGkke5yMKMYe"
   },
   "source": [
    "**Explanation for TODO 5:** <br>\n",
    "write your answer here."
   ]
  },
  {
   "cell_type": "code",
   "execution_count": 67,
   "metadata": {
    "id": "jgrM_o-bUfLa"
   },
   "outputs": [],
   "source": [
    "# 1. 일상적인 영어를 input으로 넣어주면 높은 확률의 viterbi path를 관찰할 수 있다. \n",
    "# 2. 영어 전문어를 input으로 넣어주면 낮은 확률의 viterbi path를 관찰할 수 있다. \n",
    "# 3. 프랑스 일상어를 input으로 넣어주면 영어의 일상어보단 훨씬 낮은 확률의 viterbi path를 확인 할 수 있다.\n",
    "# 4. complex라는 영어의 단어를 가지고 여러 변형된 오타를 input으로 넣어주면 본래의 viterbi path보다 조금 낮은 score을 갖는 viterbi path를 확인 할 수 있다.\n",
    "# 5. 1.과 3.의 차이를 활용해서 observation이 주어져 있을 때 어떤 언어인지 추론해보는데 응용될 수 있다.\n",
    "# 6. 언어가 주어졌다고 가정하고, 4.를 응용해서 오타를 교정하는 알고리즘을 개발하는데 insight를 얻을 수 있다."
   ]
  }
 ],
 "metadata": {
  "accelerator": "GPU",
  "colab": {
   "collapsed_sections": [
    "OVNbco0DV1-_"
   ],
   "name": "AS4_Part1_HMM.ipynb",
   "provenance": []
  },
  "kernelspec": {
   "display_name": "Python 3 (ipykernel)",
   "language": "python",
   "name": "python3"
  },
  "language_info": {
   "codemirror_mode": {
    "name": "ipython",
    "version": 3
   },
   "file_extension": ".py",
   "mimetype": "text/x-python",
   "name": "python",
   "nbconvert_exporter": "python",
   "pygments_lexer": "ipython3",
   "version": "3.8.13"
  }
 },
 "nbformat": 4,
 "nbformat_minor": 1
}

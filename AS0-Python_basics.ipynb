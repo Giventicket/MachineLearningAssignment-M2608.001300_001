{
 "cells": [
  {
   "cell_type": "markdown",
   "metadata": {
    "colab_type": "text",
    "id": "GjIaRT-5ULos"
   },
   "source": [
    "# M2608.001300 기계학습 기초 및 전기정보 응용<br> Assignment 0: Python Basics"
   ]
  },
  {
   "cell_type": "markdown",
   "metadata": {
    "colab_type": "text",
    "id": "kbWpPPQKULow"
   },
   "source": [
    "## Problem 1: Selection Sort\n",
    "\n",
    "아래 selection sort 함수를 구현해보세요. \n",
    "YOUR CODE COMES HERE 라는 주석이 있는 곳을 채우면 됩니다."
   ]
  },
  {
   "cell_type": "code",
   "execution_count": 16,
   "metadata": {
    "colab": {},
    "colab_type": "code",
    "id": "EyYXu1hzULoy"
   },
   "outputs": [],
   "source": [
    "def selection_sort(arr):\n",
    "    # YOUR CODE COMES HERE\n",
    "    for i in range(0, len(arr)):\n",
    "        minVal = arr[i]\n",
    "        minIdx = i\n",
    "        for j in range(i, len(arr)):\n",
    "            if minVal > arr[j]:\n",
    "                minVal = arr[j]\n",
    "                minIdx = j\n",
    "        tmp = arr[i]\n",
    "        arr[i] = minVal\n",
    "        arr[minIdx] = tmp\n",
    "    return arr"
   ]
  },
  {
   "cell_type": "code",
   "execution_count": 17,
   "metadata": {
    "colab": {},
    "colab_type": "code",
    "id": "cT_dRw1vULo4",
    "outputId": "9eeae819-4aba-498c-87b9-fb9983677ead",
    "scrolled": false
   },
   "outputs": [
    {
     "name": "stdout",
     "output_type": "stream",
     "text": [
      "array:  [4, 13, 8, 15, 17, 3, 19, 10, 0, 2, 6, 6, 19, 6, 3, 3, 6, 0, 14, 20]\n",
      "sorted: [0, 0, 2, 3, 3, 3, 4, 6, 6, 6, 6, 8, 10, 13, 14, 15, 17, 19, 19, 20]\n",
      "\n",
      "Q: Is the array sorted?\n",
      "A: True\n"
     ]
    }
   ],
   "source": [
    "import random\n",
    "array = [random.randint(0, 20) for _ in range(20)]\n",
    "print('array: ', array)\n",
    "\n",
    "array_sorted = selection_sort(array)\n",
    "print('sorted:', array_sorted)\n",
    "\n",
    "print()\n",
    "print('Q: Is the array sorted?')\n",
    "print('A:', sorted(array) == array_sorted)"
   ]
  },
  {
   "cell_type": "markdown",
   "metadata": {
    "colab_type": "text",
    "id": "v4K9EF1rULo-"
   },
   "source": [
    "## Problem 2: Classes\n",
    "\n",
    "Selection sort, insertion sort, merge sort를 아래 class의 instance method로 구현해 보세요. <br>\n",
    "YOUR CODE COMES HERE 라는 주석이 있는 곳을 채우면 됩니다."
   ]
  },
  {
   "cell_type": "code",
   "execution_count": 67,
   "metadata": {
    "colab": {},
    "colab_type": "code",
    "id": "XAtRozsxULo_"
   },
   "outputs": [],
   "source": [
    "class Sorter:\n",
    "    def __init__(self, method):\n",
    "        self.method = method\n",
    "        \n",
    "    @staticmethod\n",
    "    def of(method):\n",
    "        return Sorter(method)\n",
    "        \n",
    "    def sort(self, arr):\n",
    "        if self.method == 'selection_sort':\n",
    "            return self.selection_sort(arr)\n",
    "        \n",
    "        elif self.method == 'insertion_sort':\n",
    "            return self.insertion_sort(arr)\n",
    "        \n",
    "        elif self.method == 'merge_sort':\n",
    "            return self.merge_sort(arr)\n",
    "        \n",
    "        else:\n",
    "            raise ValueError('Unknown method: %s' % method)\n",
    "\n",
    "    def selection_sort(self, arr):\n",
    "        # YOUR CODE COMES HERE\n",
    "        for i in range(0, len(arr)):\n",
    "            minVal = arr[i]\n",
    "            minIdx = i\n",
    "            for j in range(i, len(arr)):\n",
    "                if minVal > arr[j]:\n",
    "                    minVal = arr[j]\n",
    "                    minIdx = j\n",
    "            tmp = arr[i]\n",
    "            arr[i] = minVal\n",
    "            arr[minIdx] = tmp\n",
    "        return arr\n",
    "    \n",
    "    def insertion_sort(self, arr):\n",
    "        # YOUR CODE COMES HERE\n",
    "        for i in range(1, len(arr)):\n",
    "            for j in range(i, 0, -1):\n",
    "                if arr[j] >= arr[j-1]:\n",
    "                    break\n",
    "                else:\n",
    "                    tmp = arr[j]\n",
    "                    arr[j] = arr[j-1]\n",
    "                    arr[j-1] = tmp\n",
    "        return arr\n",
    "    \n",
    "    def merge_sort(self, arr):\n",
    "        # YOUR CODE COMES HERE\n",
    "        if len(arr) != 0 and len(arr) != 1:\n",
    "            mid = int((len(arr) - 1) / 2)\n",
    "            INF = 99999999\n",
    "            leftArr = list()\n",
    "            rightArr = list()\n",
    "            for idx in range(0, mid+1, 1):\n",
    "                leftArr.append(arr[idx])\n",
    "            for idx in range(mid+1, len(arr), 1):\n",
    "                rightArr.append(arr[idx])\n",
    "            self.merge_sort(leftArr)\n",
    "            self.merge_sort(rightArr)\n",
    "            \n",
    "            i = j = idx = 0\n",
    "            leftArr.append(INF)\n",
    "            rightArr.append(INF)\n",
    "            while(i != len(leftArr)-1 or j != len(rightArr)-1):\n",
    "                if i < len(leftArr)-1 and leftArr[i] <= rightArr[j]:\n",
    "                    arr[idx] = leftArr[i]\n",
    "                    i += 1\n",
    "                    idx += 1\n",
    "                elif j < len(rightArr)-1 and leftArr[i] > rightArr[j]:\n",
    "                    arr[idx] = rightArr[j]\n",
    "                    j += 1\n",
    "                    idx += 1\n",
    "                    \n",
    "        return arr"
   ]
  },
  {
   "cell_type": "code",
   "execution_count": 68,
   "metadata": {
    "colab": {},
    "colab_type": "code",
    "id": "E1tKG55IULpE",
    "outputId": "f167b091-e202-4604-b8ac-d4fcaf2005ec"
   },
   "outputs": [
    {
     "name": "stdout",
     "output_type": "stream",
     "text": [
      "selection_sort sorted? True\n",
      "insertion_sort sorted? True\n",
      "merge_sort sorted? True\n"
     ]
    }
   ],
   "source": [
    "algorithms = ['selection_sort', 'insertion_sort', 'merge_sort']\n",
    "for algorithm in algorithms:\n",
    "    array = [random.randint(0, 20) for _ in range(20)]\n",
    "    sorter = Sorter.of(algorithm)\n",
    "    array_sorted = sorter.sort(array)\n",
    "    print('%s sorted? %s' % (algorithm, sorted(array) == array_sorted))"
   ]
  },
  {
   "cell_type": "code",
   "execution_count": null,
   "metadata": {
    "colab": {},
    "colab_type": "code",
    "id": "wj0K50Q5ULpI"
   },
   "outputs": [],
   "source": []
  }
 ],
 "metadata": {
  "anaconda-cloud": {},
  "colab": {
   "name": "AS0-Python_basics.ipynb",
   "provenance": []
  },
  "kernelspec": {
   "display_name": "Python 3 (ipykernel)",
   "language": "python",
   "name": "python3"
  },
  "language_info": {
   "codemirror_mode": {
    "name": "ipython",
    "version": 3
   },
   "file_extension": ".py",
   "mimetype": "text/x-python",
   "name": "python",
   "nbconvert_exporter": "python",
   "pygments_lexer": "ipython3",
   "version": "3.8.13"
  }
 },
 "nbformat": 4,
 "nbformat_minor": 1
}
